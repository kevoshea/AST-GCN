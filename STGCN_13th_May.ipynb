{
  "nbformat": 4,
  "nbformat_minor": 0,
  "metadata": {
    "colab": {
      "provenance": []
    },
    "kernelspec": {
      "name": "python3",
      "display_name": "Python 3"
    },
    "language_info": {
      "name": "python"
    }
  },
  "cells": [
    {
      "cell_type": "code",
      "execution_count": 890,
      "metadata": {
        "id": "iNUppyXtszFA"
      },
      "outputs": [],
      "source": [
        "import numpy as np\n",
        "import pandas as pd\n",
        "import torch\n",
        "import torch.nn as nn\n",
        "import torch.optim as optim\n",
        "from torch.utils.data import Dataset, DataLoader\n",
        "from sklearn.metrics import f1_score, confusion_matrix\n",
        "from sklearn.preprocessing import MinMaxScaler\n",
        "from sklearn.model_selection import train_test_split\n",
        "import random, time, csv, os\n",
        "import matplotlib.pyplot as plt\n",
        "import seaborn as sns\n",
        "\n",
        "import adj_matrix as adj\n",
        "import evaluator as e"
      ]
    },
    {
      "cell_type": "code",
      "source": [
        "print(f\"PyTorch version: {torch.__version__}\")\n",
        "\n",
        "# Check PyTorch has access to MPS (Metal Performance Shader, Apple's GPU architecture)\n",
        "print(f\"Is MPS (Metal Performance Shader) built? {torch.backends.mps.is_built()}\")\n",
        "print(f\"Is MPS available? {torch.backends.mps.is_available()}\")\n",
        "\n",
        "# Set the device\n",
        "device = \"mps\" if torch.backends.mps.is_available() else \"cpu\"\n",
        "print(f\"Using device: {device}\")"
      ],
      "metadata": {
        "colab": {
          "base_uri": "https://localhost:8080/"
        },
        "id": "l_F4Ib5-s80W",
        "outputId": "e4d834d2-2993-4b7c-ac1d-8d9951c55297"
      },
      "execution_count": 891,
      "outputs": [
        {
          "output_type": "stream",
          "name": "stdout",
          "text": [
            "PyTorch version: 2.3.0+cu121\n",
            "Is MPS (Metal Performance Shader) built? False\n",
            "Is MPS available? False\n",
            "Using device: cpu\n"
          ]
        }
      ]
    },
    {
      "cell_type": "code",
      "source": [
        "WINDOW_SIZE = 5\n",
        "RANDOM_SEED = 42\n",
        "\n",
        "def set_rand():\n",
        "\n",
        "    # Set the seed for Python's built-in random module\n",
        "    random.seed(RANDOM_SEED)\n",
        "    # Set the seed for NumPy\n",
        "    np.random.seed(RANDOM_SEED)\n",
        "    # Set the seed for PyTorch\n",
        "    torch.manual_seed(RANDOM_SEED)\n",
        "\n",
        "    # If using CUDA\n",
        "    if torch.cuda.is_available():\n",
        "        torch.cuda.manual_seed(RANDOM_SEED)\n",
        "        torch.cuda.manual_seed_all(RANDOM_SEED)  # if you are using multi-GPU.\n",
        "        torch.backends.cudnn.deterministic = True  # Ensure deterministic behavior.\n",
        "        torch.backends.cudnn.benchmark = False  # Disable the inbuilt cudnn auto-tuner that finds the best algorithm to use for your hardware.\n",
        "\n",
        "    # Optional: Set seed for environment variables (if running on specific hardware, such as GPUs)\n",
        "    os.environ['PYTHONHASHSEED'] = str(RANDOM_SEED)\n",
        "\n",
        "set_rand()"
      ],
      "metadata": {
        "id": "xCzMQlRks_3b"
      },
      "execution_count": 892,
      "outputs": []
    },
    {
      "cell_type": "code",
      "source": [
        "MODEL = 'STGCN'\n",
        "DATASET = '13-05-2024'\n",
        "df = pd.read_csv(f'/content/{DATASET}.csv')\n",
        "y_df = df['anomaly']  # Target\n",
        "#df = df[:1000]\n",
        "df.shape"
      ],
      "metadata": {
        "colab": {
          "base_uri": "https://localhost:8080/"
        },
        "id": "mESc4zibtCjD",
        "outputId": "b6639118-e52e-4358-eb0e-34223b49c53a"
      },
      "execution_count": 893,
      "outputs": [
        {
          "output_type": "execute_result",
          "data": {
            "text/plain": [
              "(10080, 471)"
            ]
          },
          "metadata": {},
          "execution_count": 893
        }
      ]
    },
    {
      "cell_type": "code",
      "source": [
        "selected_features = ['pod_memory_request|Average|rabbitmq', 'pod_memory_request|Average|queue-master', 'pod_memory_request|Average|shipping', 'pod_memory_request|Average|catalogue', 'pod_memory_request|Average|user', 'pod_memory_request|Average|carts', 'pod_memory_request|Average|orders', 'pod_memory_request|Average|front-end', 'pod_memory_request|Average|payment', 'pod_memory_request|Average|session-db', 'pod_memory_request|Average|catalogue-db', 'pod_memory_request|Average|orders-db', 'pod_memory_request|Average|user-db', 'pod_memory_request|Average|carts-db', 'pod_status_running|Average|rabbitmq', 'pod_status_running|Average|queue-master', 'pod_status_running|Average|shipping', 'pod_status_running|Average|catalogue', 'pod_status_running|Average|user', 'pod_status_running|Average|carts', 'pod_status_running|Average|orders', 'pod_status_running|Average|front-end', 'pod_status_running|Average|payment', 'pod_status_running|Average|session-db', 'pod_status_running|Average|catalogue-db', 'pod_status_running|Average|orders-db', 'pod_status_running|Average|user-db', 'pod_status_running|Average|carts-db', 'pod_status_pending|Average|rabbitmq', 'pod_status_pending|Average|queue-master', 'pod_status_pending|Average|shipping', 'pod_status_pending|Average|catalogue', 'pod_status_pending|Average|user', 'pod_status_pending|Average|carts', 'pod_status_pending|Average|orders', 'pod_status_pending|Average|front-end', 'pod_status_pending|Average|payment', 'pod_status_pending|Average|session-db', 'pod_status_pending|Average|catalogue-db', 'pod_status_pending|Average|orders-db', 'pod_status_pending|Average|user-db', 'pod_status_pending|Average|carts-db', 'pod_memory_utilization|Average|rabbitmq', 'pod_memory_utilization|Average|queue-master', 'pod_memory_utilization|Average|shipping', 'pod_memory_utilization|Average|catalogue', 'pod_memory_utilization|Average|user', 'pod_memory_utilization|Average|carts', 'pod_memory_utilization|Average|orders', 'pod_memory_utilization|Average|front-end', 'pod_memory_utilization|Average|payment', 'pod_memory_utilization|Average|session-db', 'pod_memory_utilization|Average|catalogue-db', 'pod_memory_utilization|Average|orders-db', 'pod_memory_utilization|Average|user-db', 'pod_memory_utilization|Average|carts-db', 'pod_network_tx_bytes|Average|rabbitmq', 'pod_network_tx_bytes|Average|queue-master', 'pod_network_tx_bytes|Average|shipping', 'pod_network_tx_bytes|Average|catalogue', 'pod_network_tx_bytes|Average|user', 'pod_network_tx_bytes|Average|carts', 'pod_network_tx_bytes|Average|orders', 'pod_network_tx_bytes|Average|front-end', 'pod_network_tx_bytes|Average|payment', 'pod_network_tx_bytes|Average|session-db', 'pod_network_tx_bytes|Average|catalogue-db', 'pod_network_tx_bytes|Average|orders-db', 'pod_network_tx_bytes|Average|user-db', 'pod_network_tx_bytes|Average|carts-db', 'pod_cpu_reserved_capacity|Average|rabbitmq', 'pod_cpu_reserved_capacity|Average|queue-master', 'pod_cpu_reserved_capacity|Average|shipping', 'pod_cpu_reserved_capacity|Average|catalogue', 'pod_cpu_reserved_capacity|Average|user', 'pod_cpu_reserved_capacity|Average|carts', 'pod_cpu_reserved_capacity|Average|orders', 'pod_cpu_reserved_capacity|Average|front-end', 'pod_cpu_reserved_capacity|Average|payment', 'pod_cpu_reserved_capacity|Average|session-db', 'pod_cpu_reserved_capacity|Average|catalogue-db', 'pod_cpu_reserved_capacity|Average|orders-db', 'pod_cpu_reserved_capacity|Average|user-db', 'pod_cpu_reserved_capacity|Average|carts-db', 'pod_status_failed|Average|rabbitmq', 'pod_status_failed|Average|queue-master', 'pod_status_failed|Average|shipping', 'pod_status_failed|Average|catalogue', 'pod_status_failed|Average|user', 'pod_status_failed|Average|carts', 'pod_status_failed|Average|orders', 'pod_status_failed|Average|front-end', 'pod_status_failed|Average|payment', 'pod_status_failed|Average|session-db', 'pod_status_failed|Average|catalogue-db', 'pod_status_failed|Average|orders-db', 'pod_status_failed|Average|user-db', 'pod_status_failed|Average|carts-db', 'pod_container_status_terminated|Average|rabbitmq', 'pod_container_status_terminated|Average|queue-master', 'pod_container_status_terminated|Average|shipping', 'pod_container_status_terminated|Average|catalogue', 'pod_container_status_terminated|Average|user', 'pod_container_status_terminated|Average|carts', 'pod_container_status_terminated|Average|orders', 'pod_container_status_terminated|Average|front-end', 'pod_container_status_terminated|Average|payment', 'pod_container_status_terminated|Average|session-db', 'pod_container_status_terminated|Average|catalogue-db', 'pod_container_status_terminated|Average|orders-db', 'pod_container_status_terminated|Average|user-db', 'pod_container_status_terminated|Average|carts-db', 'pod_container_status_running|Average|rabbitmq', 'pod_container_status_running|Average|queue-master', 'pod_container_status_running|Average|shipping', 'pod_container_status_running|Average|catalogue', 'pod_container_status_running|Average|user', 'pod_container_status_running|Average|carts', 'pod_container_status_running|Average|orders', 'pod_container_status_running|Average|front-end', 'pod_container_status_running|Average|payment', 'pod_container_status_running|Average|session-db', 'pod_container_status_running|Average|catalogue-db', 'pod_container_status_running|Average|orders-db', 'pod_container_status_running|Average|user-db', 'pod_container_status_running|Average|carts-db', 'pod_status_scheduled|Average|rabbitmq', 'pod_status_scheduled|Average|queue-master', 'pod_status_scheduled|Average|shipping', 'pod_status_scheduled|Average|catalogue', 'pod_status_scheduled|Average|user', 'pod_status_scheduled|Average|carts', 'pod_status_scheduled|Average|orders', 'pod_status_scheduled|Average|front-end', 'pod_status_scheduled|Average|payment', 'pod_status_scheduled|Average|session-db', 'pod_status_scheduled|Average|catalogue-db', 'pod_status_scheduled|Average|orders-db', 'pod_status_scheduled|Average|user-db', 'pod_status_scheduled|Average|carts-db', 'pod_memory_reserved_capacity|Average|rabbitmq', 'pod_memory_reserved_capacity|Average|queue-master', 'pod_memory_reserved_capacity|Average|shipping', 'pod_memory_reserved_capacity|Average|catalogue', 'pod_memory_reserved_capacity|Average|user', 'pod_memory_reserved_capacity|Average|carts', 'pod_memory_reserved_capacity|Average|orders', 'pod_memory_reserved_capacity|Average|front-end', 'pod_memory_reserved_capacity|Average|payment', 'pod_memory_reserved_capacity|Average|session-db', 'pod_memory_reserved_capacity|Average|catalogue-db', 'pod_memory_reserved_capacity|Average|orders-db', 'pod_memory_reserved_capacity|Average|user-db', 'pod_memory_reserved_capacity|Average|carts-db', 'pod_interface_network_tx_dropped|Average|rabbitmq', 'pod_interface_network_tx_dropped|Average|queue-master', 'pod_interface_network_tx_dropped|Average|shipping', 'pod_interface_network_tx_dropped|Average|catalogue', 'pod_interface_network_tx_dropped|Average|user', 'pod_interface_network_tx_dropped|Average|carts', 'pod_interface_network_tx_dropped|Average|orders', 'pod_interface_network_tx_dropped|Average|front-end', 'pod_interface_network_tx_dropped|Average|payment', 'pod_interface_network_tx_dropped|Average|session-db', 'pod_interface_network_tx_dropped|Average|catalogue-db', 'pod_interface_network_tx_dropped|Average|orders-db', 'pod_interface_network_tx_dropped|Average|user-db', 'pod_interface_network_tx_dropped|Average|carts-db', 'pod_network_rx_bytes|Average|rabbitmq', 'pod_network_rx_bytes|Average|queue-master', 'pod_network_rx_bytes|Average|shipping', 'pod_network_rx_bytes|Average|catalogue', 'pod_network_rx_bytes|Average|user', 'pod_network_rx_bytes|Average|carts', 'pod_network_rx_bytes|Average|orders', 'pod_network_rx_bytes|Average|front-end', 'pod_network_rx_bytes|Average|payment', 'pod_network_rx_bytes|Average|session-db', 'pod_network_rx_bytes|Average|catalogue-db', 'pod_network_rx_bytes|Average|orders-db', 'pod_network_rx_bytes|Average|user-db', 'pod_network_rx_bytes|Average|carts-db', 'pod_number_of_running_containers|Average|rabbitmq', 'pod_number_of_running_containers|Average|queue-master', 'pod_number_of_running_containers|Average|shipping', 'pod_number_of_running_containers|Average|catalogue', 'pod_number_of_running_containers|Average|user', 'pod_number_of_running_containers|Average|carts', 'pod_number_of_running_containers|Average|orders', 'pod_number_of_running_containers|Average|front-end', 'pod_number_of_running_containers|Average|payment', 'pod_number_of_running_containers|Average|session-db', 'pod_number_of_running_containers|Average|catalogue-db', 'pod_number_of_running_containers|Average|orders-db', 'pod_number_of_running_containers|Average|user-db', 'pod_number_of_running_containers|Average|carts-db', 'pod_number_of_container_restarts|Average|rabbitmq', 'pod_number_of_container_restarts|Average|queue-master', 'pod_number_of_container_restarts|Average|shipping', 'pod_number_of_container_restarts|Average|catalogue', 'pod_number_of_container_restarts|Average|user', 'pod_number_of_container_restarts|Average|carts', 'pod_number_of_container_restarts|Average|orders', 'pod_number_of_container_restarts|Average|front-end', 'pod_number_of_container_restarts|Average|payment', 'pod_number_of_container_restarts|Average|session-db', 'pod_number_of_container_restarts|Average|catalogue-db', 'pod_number_of_container_restarts|Average|orders-db', 'pod_number_of_container_restarts|Average|user-db', 'pod_number_of_container_restarts|Average|carts-db', 'pod_interface_network_rx_dropped|Average|rabbitmq', 'pod_interface_network_rx_dropped|Average|queue-master', 'pod_interface_network_rx_dropped|Average|shipping', 'pod_interface_network_rx_dropped|Average|catalogue', 'pod_interface_network_rx_dropped|Average|user', 'pod_interface_network_rx_dropped|Average|carts', 'pod_interface_network_rx_dropped|Average|orders', 'pod_interface_network_rx_dropped|Average|front-end', 'pod_interface_network_rx_dropped|Average|payment', 'pod_interface_network_rx_dropped|Average|session-db', 'pod_interface_network_rx_dropped|Average|catalogue-db', 'pod_interface_network_rx_dropped|Average|orders-db', 'pod_interface_network_rx_dropped|Average|user-db', 'pod_interface_network_rx_dropped|Average|carts-db', 'pod_cpu_utilization|Average|rabbitmq', 'pod_cpu_utilization|Average|queue-master', 'pod_cpu_utilization|Average|shipping', 'pod_cpu_utilization|Average|catalogue', 'pod_cpu_utilization|Average|user', 'pod_cpu_utilization|Average|carts', 'pod_cpu_utilization|Average|orders', 'pod_cpu_utilization|Average|front-end', 'pod_cpu_utilization|Average|payment', 'pod_cpu_utilization|Average|session-db', 'pod_cpu_utilization|Average|catalogue-db', 'pod_cpu_utilization|Average|orders-db', 'pod_cpu_utilization|Average|user-db', 'pod_cpu_utilization|Average|carts-db', 'pod_status_unknown|Average|rabbitmq', 'pod_status_unknown|Average|queue-master', 'pod_status_unknown|Average|shipping', 'pod_status_unknown|Average|catalogue', 'pod_status_unknown|Average|user', 'pod_status_unknown|Average|carts', 'pod_status_unknown|Average|orders', 'pod_status_unknown|Average|front-end', 'pod_status_unknown|Average|payment', 'pod_status_unknown|Average|session-db', 'pod_status_unknown|Average|catalogue-db', 'pod_status_unknown|Average|orders-db', 'pod_status_unknown|Average|user-db', 'pod_status_unknown|Average|carts-db']\n",
        "X = df[selected_features]\n",
        "X.columns = X.columns.str.replace('-', '_')\n",
        "scaler = MinMaxScaler()\n",
        "X_scaled = scaler.fit_transform(X)\n",
        "X = pd.DataFrame(X_scaled, columns=X.columns)\n",
        "\n",
        "# Z_features = selected_features + ['time', 'anomaly', 'anomaly_load', 'anomaly_fis']\n",
        "# Z = df.drop(columns=Z_features)\n",
        "# Z_scaled = scaler.fit_transform(Z)\n",
        "# Z = pd.DataFrame(Z_scaled, columns=Z.columns)\n",
        "\n",
        "import numpy as np\n",
        "\n",
        "# List of features and pods\n",
        "features = [\n",
        "    'pod_container_status_running|Average|',\n",
        "    'pod_container_status_terminated|Average|',\n",
        "    'pod_cpu_reserved_capacity|Average|',\n",
        "    'pod_cpu_utilization|Average|',\n",
        "    'pod_interface_network_rx_dropped|Average|',\n",
        "    'pod_interface_network_tx_dropped|Average|',\n",
        "    'pod_memory_request|Average|',\n",
        "    'pod_memory_reserved_capacity|Average|',\n",
        "    'pod_memory_utilization|Average|',\n",
        "    'pod_network_rx_bytes|Average|',\n",
        "    'pod_network_tx_bytes|Average|',\n",
        "    'pod_number_of_container_restarts|Average|',\n",
        "    'pod_number_of_running_containers|Average|',\n",
        "    'pod_status_failed|Average|',\n",
        "    'pod_status_pending|Average|',\n",
        "    'pod_status_running|Average|',\n",
        "    'pod_status_scheduled|Average|',\n",
        "    'pod_status_unknown|Average|'\n",
        "]\n",
        "\n",
        "pods = [\n",
        "    'carts', 'carts_db',\n",
        "    'catalogue', 'catalogue_db',\n",
        "    'front_end',\n",
        "    'orders','orders_db',\n",
        "    'payment',\n",
        "    'queue_master',\n",
        "    'rabbitmq',\n",
        "    'session_db', 'shipping',\n",
        "    'user', 'user_db',\n",
        "]\n",
        "\n",
        "# Initialize empty arrays\n",
        "carts = np.empty((len(X), len(features)), dtype=np.float32)\n",
        "carts_db = np.empty((len(X), len(features)), dtype=np.float32)\n",
        "catalogue = np.empty((len(X), len(features)), dtype=np.float32)\n",
        "catalogue_db = np.empty((len(X), len(features)), dtype=np.float32)\n",
        "front_end = np.empty((len(X), len(features)), dtype=np.float32)\n",
        "orders = np.empty((len(X), len(features)), dtype=np.float32)\n",
        "orders_db = np.empty((len(X), len(features)), dtype=np.float32)\n",
        "payment = np.empty((len(X), len(features)), dtype=np.float32)\n",
        "queue_master = np.empty((len(X), len(features)), dtype=np.float32)\n",
        "rabbitmq = np.empty((len(X), len(features)), dtype=np.float32)\n",
        "session_db = np.empty((len(X), len(features)), dtype=np.float32)\n",
        "shipping = np.empty((len(X), len(features)), dtype=np.float32)\n",
        "user = np.empty((len(X), len(features)), dtype=np.float32)\n",
        "user_db = np.empty((len(X), len(features)), dtype=np.float32)\n",
        "\n",
        "# Extract data from DataFrame and populate arrays\n",
        "for idx, feature in enumerate(features):\n",
        "    for pod in pods:\n",
        "        column_name = f\"{feature}{pod}\"\n",
        "        array_to_fill = globals()[pod]  # get the array based on pod name\n",
        "        array_to_fill[:, idx] = X[column_name].values.astype(np.float32)\n",
        "\n",
        "X_nodes = np.stack((carts, carts_db, catalogue, catalogue_db, front_end, orders, orders_db, payment,\n",
        "                    queue_master, rabbitmq, session_db, shipping, user, user_db), axis=1)\n",
        "print(X_nodes.shape)"
      ],
      "metadata": {
        "colab": {
          "base_uri": "https://localhost:8080/"
        },
        "id": "MDpamlxztGt5",
        "outputId": "bd6e37db-13ca-4b6f-a0e3-a21426289ccd"
      },
      "execution_count": 894,
      "outputs": [
        {
          "output_type": "stream",
          "name": "stdout",
          "text": [
            "(10080, 14, 18)\n"
          ]
        }
      ]
    },
    {
      "cell_type": "code",
      "source": [
        "class MyDataset(Dataset):\n",
        "    def __init__(self, data, targets):\n",
        "        \"\"\"\n",
        "        Args:\n",
        "            data (numpy array or torch tensor): Data of shape (num_samples, in_channels, window, num_nodes)\n",
        "            targets (numpy array or torch tensor): Corresponding targets/labels\n",
        "        \"\"\"\n",
        "        self.data = torch.tensor(data, dtype=torch.float32)\n",
        "        self.targets = torch.tensor(targets, dtype=torch.float32)\n",
        "\n",
        "    def __len__(self):\n",
        "        return len(self.data)\n",
        "\n",
        "    def __getitem__(self, idx):\n",
        "        return self.data[idx], self.targets[idx]"
      ],
      "metadata": {
        "id": "WJF41irLtJUM"
      },
      "execution_count": 895,
      "outputs": []
    },
    {
      "cell_type": "code",
      "source": [
        "# Define the Model\n",
        "\n",
        "class STGCNBlock(nn.Module):\n",
        "    def __init__(self, in_channels, out_channels, num_nodes, am, do):\n",
        "        super(STGCNBlock, self).__init__()\n",
        "        self.am = torch.tensor(am, dtype=torch.float32)\n",
        "        self.spatial_conv = nn.Conv2d(in_channels, out_channels, kernel_size=(1, num_nodes))\n",
        "        self.temporal_conv = nn.Conv2d(out_channels, out_channels, kernel_size=(3, 1), padding=(1, 0))\n",
        "        self.spatial_attention = nn.Linear(num_nodes, num_nodes)\n",
        "        self.temporal_attention = nn.Linear(out_channels, 1)\n",
        "        self.dropout = nn.Dropout(do)\n",
        "        self.batch_norm = nn.BatchNorm2d(out_channels)\n",
        "\n",
        "    def forward(self, x):\n",
        "        # x shape: (batch_size, in_channels, window, num_nodes)\n",
        "        # Spatial attention mechanism\n",
        "        spatial_attn_weights = torch.softmax(self.spatial_attention(self.am), dim=1)  # shape: (num_nodes, num_nodes)\n",
        "        x = torch.einsum('bchi,nm->bchi', x, spatial_attn_weights)  # shape: (batch_size, in_channels, window, num_nodes)\n",
        "        x = self.spatial_conv(x)  # shape: (batch_size, out_channels, window, 1)\n",
        "        #x = self.batch_norm(x)\n",
        "        x = torch.relu(x)\n",
        "        x = self.temporal_conv(x)  # shape: (batch_size, out_channels, window, 1)\n",
        "        x = self.batch_norm(x)\n",
        "        x = torch.relu(x)\n",
        "        x = self.dropout(x)  # Apply dropout\n",
        "        x = x.squeeze(-1)  # shape: (batch_size, out_channels, window)\n",
        "\n",
        "        # Temporal attention mechanism\n",
        "        temporal_attn_weights = torch.softmax(self.temporal_attention(x.transpose(1, 2)), dim=1)  # shape: (batch_size, window, 1)\n",
        "        x = torch.sum(temporal_attn_weights * x.transpose(1, 2), dim=1)  # shape: (batch_size, out_channels)\n",
        "\n",
        "        return x, temporal_attn_weights, spatial_attn_weights\n",
        "\n",
        "class AttentionBasedSTGCN(nn.Module):\n",
        "    def __init__(self, num_nodes, num_features, window, hidden_dim, am, do):\n",
        "        super(AttentionBasedSTGCN, self).__init__()\n",
        "        self.stgcn_block = STGCNBlock(num_features, hidden_dim, num_nodes, am, do)\n",
        "        self.fc = nn.Linear(hidden_dim, 1)\n",
        "        self.sigmoid = nn.Sigmoid()\n",
        "\n",
        "    def forward(self, x):\n",
        "        x = x.permute(0, 3, 1, 2)  # (batch_size, num_features, window, num_nodes)\n",
        "        x, temporal_attn_weights, spatial_attn_weights = self.stgcn_block(x)\n",
        "        x = self.fc(x)\n",
        "        x = self.sigmoid(x)\n",
        "        return x.squeeze(-1), temporal_attn_weights, spatial_attn_weights"
      ],
      "metadata": {
        "id": "090F1vfCtLX2"
      },
      "execution_count": 896,
      "outputs": []
    },
    {
      "cell_type": "code",
      "source": [
        "pod_predictions = []\n",
        "\n",
        "ew_f1_loop_result = []\n",
        "ew_precision_loop_result = []\n",
        "ew_recall_loop_result = []\n",
        "train_time_loop_result = []\n",
        "test_time_loop_result = []\n",
        "\n",
        "T_steps = 2\n",
        "\n",
        "for i in range(1, T_steps):\n",
        "\n",
        "    print('I:', i)\n",
        "    set_rand() # reset random seed each loop\n",
        "\n",
        "    num_nodes = 14\n",
        "    num_features = 18\n",
        "    num_timesteps = len(df)  # total time steps\n",
        "    window = WINDOW_SIZE\n",
        "\n",
        "    features = X_nodes\n",
        "    labels = np.array(y_df)\n",
        "\n",
        "    # Create historical data and corresponding labels\n",
        "    X = []\n",
        "    y = []\n",
        "\n",
        "    time_T = 1 # For time t use 1, for t+1 use 0\n",
        "\n",
        "    for t in range(window, num_timesteps+time_T):\n",
        "        X.append(features[t-window:t])\n",
        "        y.append(labels[t-time_T])\n",
        "    X = np.array(X)  # shape (num_samples, window, num_nodes, num_features)\n",
        "    y = np.array(y)  # shape (num_samples,)\n",
        "\n",
        "    # Split into train and test sets\n",
        "    X_train, X_test, y_train, y_test = train_test_split(X, y, test_size=0.2, random_state=RANDOM_SEED, shuffle=False) #True, stratify=y)\n",
        "\n",
        "    # Create Dataset\n",
        "    dataset = MyDataset(X_train, y_train)\n",
        "\n",
        "    # Create DataLoader\n",
        "    batch_size = 20\n",
        "    dataloader = DataLoader(dataset, batch_size=batch_size, shuffle=True)\n",
        "\n",
        "    adj_matrix = adj.uni_loops()\n",
        "    #adj_matrix = np.zeros((14,14))\n",
        "\n",
        "    # print('Training set length:', len(X_train))\n",
        "    # print('Validation set length:', len(y_train))\n",
        "    # print('Testing set length:', len(X_test))\n",
        "    # print('ground truth length:', len(y_test))\n",
        "    # print('Anomalies in training set:', y_train.sum())\n",
        "    # print('Anomalies in test set', y_test.sum())\n",
        "\n",
        "    # Hyperparameters\n",
        "    hidden_dim = 30\n",
        "    learning_rate = 0.001\n",
        "    num_epochs = 23\n",
        "    dropout = 0 # 0.2\n",
        "\n",
        "    # Initialize model, loss, and optimizer\n",
        "    model = AttentionBasedSTGCN(num_nodes, num_features, window, hidden_dim, adj_matrix, dropout)\n",
        "    criterion = nn.BCELoss()\n",
        "    optimizer = optim.Adam(model.parameters(), lr=learning_rate)\n",
        "\n",
        "    train_losses = []\n",
        "    training_time = time.time()\n",
        "\n",
        "    for epoch in range(num_epochs):\n",
        "        model.train()\n",
        "        running_loss = 0.0\n",
        "        train_losses = []\n",
        "\n",
        "        for i, (inputs, labels) in enumerate(dataloader):\n",
        "            optimizer.zero_grad()\n",
        "            outputs, _, _ = model(inputs)\n",
        "            loss = criterion(outputs, labels)\n",
        "            loss.backward()\n",
        "            optimizer.step()\n",
        "            running_loss += loss.item()\n",
        "            train_losses.append(loss.item())\n",
        "\n",
        "        avg_loss = running_loss / len(dataloader)\n",
        "        train_losses.append(avg_loss)\n",
        "        print(f'Epoch {epoch+1}/{num_epochs}, Loss: {avg_loss}')\n",
        "\n",
        "    training_time = round(time.time()-training_time, 2)\n",
        "    print('Finished Training')\n",
        "\n",
        "    ################################# Evaluation ######################\n",
        "    test_time = time.time()\n",
        "    model.eval()\n",
        "    with torch.no_grad():\n",
        "        inputs = torch.tensor(X_test, dtype=torch.float32)\n",
        "        targets = torch.tensor(y_test, dtype=torch.float32)\n",
        "\n",
        "        outputs, temporal_attn_weights, spatial_attn_weights = model(inputs)\n",
        "        pod_predictions = outputs\n",
        "        # Find the best threshold\n",
        "        best_threshold = 0.0\n",
        "        best_f1 = 0.0\n",
        "        for threshold in np.arange(0.0, 1.0, 0.001):\n",
        "            predicted = (outputs >= threshold).float()\n",
        "            f1 = f1_score(targets.numpy(), predicted.numpy())\n",
        "            if f1 > best_f1:\n",
        "                best_f1 = f1\n",
        "                best_threshold = threshold\n",
        "\n",
        "        print(f'Best Threshold: {best_threshold:.2f}, Best F1-score: {best_f1:.4f}')\n",
        "\n",
        "        # Use the best threshold to make final predictions\n",
        "        predicted = (outputs >= best_threshold).float()\n",
        "        final_f1 = f1_score(targets.numpy(), predicted.numpy())\n",
        "        print(f'Final F1-score: {final_f1:.4f}')\n",
        "    #     print(\"Attention Weights (Temporal):\")\n",
        "    #     print(temporal_attn_weights.numpy())\n",
        "    #     print(\"Attention Weights (Spatial):\")\n",
        "    #     print(spatial_attn_weights.numpy())\n",
        "\n",
        "    test_time = round(time.time()-test_time, 2)\n",
        "\n",
        "    pw_precision, pw_recall, pw_f1 = e.calculate_point_wise(targets, predicted)\n",
        "    print('Point-wise F1:', pw_f1)\n",
        "\n",
        "    pa_precision, pa_recall, pa_f1 = e.calculate_point_adjusted(targets, predicted)\n",
        "    print('Point-adjust F1:', pa_f1)\n",
        "\n",
        "    composite_precision, composite_recall, composite_f1 = e.calculate_composite(targets, predicted)\n",
        "    print('Composite F1:', composite_f1)\n",
        "\n",
        "    ew_precision, ew_recall, ew_f1 = e.calculate_event_wise(targets, predicted)\n",
        "    print('Event-wise F1:', ew_f1)\n",
        "\n",
        "    pr = e.evaluate(targets, predicted)\n",
        "    print('Precision:', pr.loc['Eventwise'][0])\n",
        "    print('Recall:', pr.loc['Eventwise'][1])\n",
        "    print('Time: ', training_time + test_time)\n",
        "\n",
        "    ew_f1_loop_result.append(ew_f1)\n",
        "    ew_precision_loop_result.append(ew_precision)\n",
        "    ew_recall_loop_result.append(ew_recall)\n",
        "    train_time_loop_result.append(training_time)\n",
        "    test_time_loop_result.append(test_time)"
      ],
      "metadata": {
        "colab": {
          "base_uri": "https://localhost:8080/"
        },
        "id": "YThW_MRWtNf8",
        "outputId": "63442731-1774-481d-bfe8-9ac7f604b7af"
      },
      "execution_count": 897,
      "outputs": [
        {
          "output_type": "stream",
          "name": "stdout",
          "text": [
            "I: 1\n",
            "Epoch 1/23, Loss: 0.26451280085420786\n",
            "Epoch 2/23, Loss: 0.21361902125050353\n",
            "Epoch 3/23, Loss: 0.20223323690240497\n",
            "Epoch 4/23, Loss: 0.19575557276310754\n",
            "Epoch 5/23, Loss: 0.19309100076999913\n",
            "Epoch 6/23, Loss: 0.186959184447382\n",
            "Epoch 7/23, Loss: 0.1843790365544797\n",
            "Epoch 8/23, Loss: 0.1838719123747967\n",
            "Epoch 9/23, Loss: 0.18076632327628933\n",
            "Epoch 10/23, Loss: 0.1771677302996219\n",
            "Epoch 11/23, Loss: 0.17638882228794966\n",
            "Epoch 12/23, Loss: 0.1772333760248964\n",
            "Epoch 13/23, Loss: 0.17539742613031017\n",
            "Epoch 14/23, Loss: 0.17288924394540545\n",
            "Epoch 15/23, Loss: 0.1693131752617232\n",
            "Epoch 16/23, Loss: 0.1663740479015276\n",
            "Epoch 17/23, Loss: 0.1626092323746819\n",
            "Epoch 18/23, Loss: 0.16263980013098817\n",
            "Epoch 19/23, Loss: 0.1637645248952264\n",
            "Epoch 20/23, Loss: 0.16365378868370953\n",
            "Epoch 21/23, Loss: 0.15994891127058428\n",
            "Epoch 22/23, Loss: 0.15948969737924729\n",
            "Epoch 23/23, Loss: 0.153498253228129\n",
            "Finished Training\n",
            "Best Threshold: 0.39, Best F1-score: 0.7207\n",
            "Final F1-score: 0.7207\n",
            "Point-wise F1: 0.72\n",
            "Point-adjust F1: 0.84\n",
            "Composite F1: 0.85\n",
            "Event-wise F1: 0.89\n",
            "Precision: 0.94\n",
            "Recall: 0.85\n",
            "Time:  45.72\n"
          ]
        }
      ]
    },
    {
      "cell_type": "code",
      "source": [
        "# import matplotlib.pyplot as plt\n",
        "\n",
        "# plt.plot(range(1, len(ew_f1_loop_result) + 1), ew_f1_loop_result, marker='o', linestyle='-', color='b')\n",
        "# plt.xlabel('Iteration')\n",
        "# plt.ylabel('EW F1 Score')\n",
        "# plt.title('EW F1 Score per Iteration')\n",
        "# plt.grid(True)\n",
        "# plt.show()\n",
        "\n",
        "# # Finding the maximum value\n",
        "# max_ew_f1 = max(ew_f1_loop_result)\n",
        "# max_index = ew_f1_loop_result.index(max_ew_f1)\n",
        "\n",
        "# print(f\"Maximum EW F1 Score: {max_ew_f1} at iteration {max_index + 1} \\n\")\n",
        "\n",
        "# # Printing the results\n",
        "# for i in range(len(ew_f1_loop_result)):\n",
        "#     print(f\"Iteration {i + 1}:\")\n",
        "#     print(f\"  EW F1 Score: {ew_f1_loop_result[i]}\")\n",
        "#     print(f\"  EW Precision: {ew_precision_loop_result[i]}\")\n",
        "#     print(f\"  EW Recall: {ew_recall_loop_result[i]}\")\n",
        "#     print(f\"  Training Time: {train_time_loop_result[i]} seconds\")\n",
        "#     print(f\"  Testing Time: {test_time_loop_result[i]} seconds\")\n",
        "#     print()\n"
      ],
      "metadata": {
        "id": "WyEfKi_6tP7Y"
      },
      "execution_count": 898,
      "outputs": []
    },
    {
      "cell_type": "markdown",
      "metadata": {
        "id": "hul0kt6HGK68"
      },
      "source": [
        "# Node classifier"
      ]
    },
    {
      "cell_type": "code",
      "execution_count": 899,
      "metadata": {
        "id": "Dl4xlA1wGK68",
        "outputId": "7fccbb3a-c9e9-4c61-b81e-7432eeb4aa26",
        "colab": {
          "base_uri": "https://localhost:8080/"
        }
      },
      "outputs": [
        {
          "output_type": "stream",
          "name": "stdout",
          "text": [
            "torch.Size([10080, 5, 25])\n"
          ]
        }
      ],
      "source": [
        "# Nodes\n",
        "node_names = ['i-0157abca04ca7fd5d', 'i-0bb95b207adfb06d7', 'i-0de53f0ccb7f61704', 'i-0ed12dfad94cfff16', 'i-0ff84135a2c4cca0a']\n",
        "node_feature_names = [col for col in df.columns if any(node in col for node in node_names)]\n",
        "node_feature_names.sort()\n",
        "\n",
        "nodes_df = df[node_feature_names]\n",
        "# Convert to NumPy array\n",
        "nodes_array = nodes_df.to_numpy()\n",
        "# Reshape (10081, 5, 25)\n",
        "nodes_array_reshaped = nodes_array.reshape(len(df), 5, 25)\n",
        "# Convert to PyTorch tensor\n",
        "X_nodes = torch.tensor(nodes_array_reshaped)\n",
        "print(X_nodes.shape)"
      ]
    },
    {
      "cell_type": "code",
      "source": [
        "node_predictions = []\n",
        "\n",
        "ew_f1_loop_result = []\n",
        "ew_precision_loop_result = []\n",
        "ew_recall_loop_result = []\n",
        "train_time_loop_result = []\n",
        "test_time_loop_result = []\n",
        "\n",
        "T_steps = 2\n",
        "\n",
        "for i in range(1, T_steps):\n",
        "\n",
        "    print('I:', i)\n",
        "    set_rand() # reset random seed each loop\n",
        "\n",
        "    num_nodes = 5\n",
        "    num_features = 25\n",
        "    num_timesteps = len(df)  # total time steps\n",
        "    window = WINDOW_SIZE # 16?\n",
        "\n",
        "    features = X_nodes\n",
        "    labels = np.array(y_df)\n",
        "\n",
        "    # Create historical data and corresponding labels\n",
        "    X = []\n",
        "    y = []\n",
        "\n",
        "    time_T = 1 # For time t use 1, for t+1 use 0\n",
        "\n",
        "    for t in range(window, num_timesteps+time_T):\n",
        "        X.append(features[t-window:t])\n",
        "        y.append(labels[t-time_T])\n",
        "    X = np.array(X)  # shape (num_samples, window, num_nodes, num_features)\n",
        "    y = np.array(y)  # shape (num_samples,)\n",
        "\n",
        "    # Split into train and test sets\n",
        "    X_train, X_test, y_train, y_test = train_test_split(X, y, test_size=0.2, random_state=RANDOM_SEED, shuffle=False) #True, stratify=y)\n",
        "\n",
        "    # Create Dataset\n",
        "    dataset = MyDataset(X_train, y_train)\n",
        "\n",
        "    # Create DataLoader\n",
        "    batch_size = 20\n",
        "    dataloader = DataLoader(dataset, batch_size=batch_size, shuffle=True)\n",
        "\n",
        "    adj_matrix = adj.nodes_fc()\n",
        "    #adj_matrix = np.zeros((5,5))\n",
        "\n",
        "    # print('Training set length:', len(X_train))\n",
        "    # print('Validation set length:', len(y_train))\n",
        "    # print('Testing set length:', len(X_test))\n",
        "    # print('ground truth length:', len(y_test))\n",
        "    # print('Anomalies in training set:', y_train.sum())\n",
        "    # print('Anomalies in test set', y_test.sum())\n",
        "\n",
        "    # Hyperparameters\n",
        "    hidden_dim = 30\n",
        "    learning_rate = 0.001\n",
        "    num_epochs = 23\n",
        "    dropout = 0 # 0.2\n",
        "\n",
        "    # Initialize model, loss, and optimizer\n",
        "    model = AttentionBasedSTGCN(num_nodes, num_features, window, hidden_dim, adj_matrix, dropout)\n",
        "    criterion = nn.BCELoss()\n",
        "    optimizer = optim.Adam(model.parameters(), lr=learning_rate)\n",
        "\n",
        "    train_losses = []\n",
        "    training_time = time.time()\n",
        "\n",
        "    for epoch in range(num_epochs):\n",
        "        model.train()\n",
        "        running_loss = 0.0\n",
        "        train_losses = []\n",
        "\n",
        "        for i, (inputs, labels) in enumerate(dataloader):\n",
        "            optimizer.zero_grad()\n",
        "            outputs, _, _ = model(inputs)\n",
        "            loss = criterion(outputs, labels)\n",
        "            loss.backward()\n",
        "            optimizer.step()\n",
        "            running_loss += loss.item()\n",
        "            train_losses.append(loss.item())\n",
        "\n",
        "        avg_loss = running_loss / len(dataloader)\n",
        "        train_losses.append(avg_loss)\n",
        "        print(f'Epoch {epoch+1}/{num_epochs}, Loss: {avg_loss}')\n",
        "\n",
        "    training_time = round(time.time()-training_time, 2)\n",
        "    print('Finished Training')\n",
        "\n",
        "    ################################# Evaluation ######################\n",
        "    test_time = time.time()\n",
        "    model.eval()\n",
        "    with torch.no_grad():\n",
        "        inputs = torch.tensor(X_test, dtype=torch.float32)\n",
        "        targets = torch.tensor(y_test, dtype=torch.float32)\n",
        "\n",
        "        outputs, temporal_attn_weights, spatial_attn_weights = model(inputs)\n",
        "        node_predictions = outputs\n",
        "\n",
        "        # Find the best threshold\n",
        "        best_threshold = 0.0\n",
        "        best_f1 = 0.0\n",
        "        for threshold in np.arange(0.0, 1.0, 0.001):\n",
        "            predicted = (outputs >= threshold).float()\n",
        "            f1 = f1_score(targets.numpy(), predicted.numpy())\n",
        "            if f1 > best_f1:\n",
        "                best_f1 = f1\n",
        "                best_threshold = threshold\n",
        "\n",
        "        print(f'Best Threshold: {best_threshold:.2f}, Best F1-score: {best_f1:.4f}')\n",
        "\n",
        "        # Use the best threshold to make final predictions\n",
        "        predicted = (outputs >= best_threshold).float()\n",
        "        final_f1 = f1_score(targets.numpy(), predicted.numpy())\n",
        "        print(f'Final F1-score: {final_f1:.4f}')\n",
        "    #     print(\"Attention Weights (Temporal):\")\n",
        "    #     print(temporal_attn_weights.numpy())\n",
        "    #     print(\"Attention Weights (Spatial):\")\n",
        "    #     print(spatial_attn_weights.numpy())\n",
        "\n",
        "    test_time = round(time.time()-test_time, 2)\n",
        "\n",
        "    pw_precision, pw_recall, pw_f1 = e.calculate_point_wise(targets, predicted)\n",
        "    print('Point-wise F1:', pw_f1)\n",
        "\n",
        "    pa_precision, pa_recall, pa_f1 = e.calculate_point_adjusted(targets, predicted)\n",
        "    print('Point-adjust F1:', pa_f1)\n",
        "\n",
        "    composite_precision, composite_recall, composite_f1 = e.calculate_composite(targets, predicted)\n",
        "    print('Composite F1:', composite_f1)\n",
        "\n",
        "    ew_precision, ew_recall, ew_f1 = e.calculate_event_wise(targets, predicted)\n",
        "    print('Event-wise F1:', ew_f1)\n",
        "\n",
        "    pr = e.evaluate(targets, predicted)\n",
        "    print('Precision:', pr.loc['Eventwise'][0])\n",
        "    print('Recall:', pr.loc['Eventwise'][1])\n",
        "    print('Time: ', training_time + test_time)\n",
        "\n",
        "    ew_f1_loop_result.append(ew_f1)\n",
        "    ew_precision_loop_result.append(ew_precision)\n",
        "    ew_recall_loop_result.append(ew_recall)\n",
        "    train_time_loop_result.append(training_time)\n",
        "    test_time_loop_result.append(test_time)"
      ],
      "metadata": {
        "colab": {
          "base_uri": "https://localhost:8080/"
        },
        "id": "-3KomKxBfJrk",
        "outputId": "717d7439-a155-454c-85b9-0264fba87a09"
      },
      "execution_count": 900,
      "outputs": [
        {
          "output_type": "stream",
          "name": "stdout",
          "text": [
            "I: 1\n",
            "Epoch 1/23, Loss: 0.2916625333446131\n",
            "Epoch 2/23, Loss: 0.26194348807444345\n",
            "Epoch 3/23, Loss: 0.2504907000356957\n",
            "Epoch 4/23, Loss: 0.24849083644358752\n",
            "Epoch 5/23, Loss: 0.24604450031264544\n",
            "Epoch 6/23, Loss: 0.24309679045903476\n",
            "Epoch 7/23, Loss: 0.24648448174112192\n",
            "Epoch 8/23, Loss: 0.24410118055402788\n",
            "Epoch 9/23, Loss: 0.2376316825098938\n",
            "Epoch 10/23, Loss: 0.24175073309031964\n",
            "Epoch 11/23, Loss: 0.2293850623496413\n",
            "Epoch 12/23, Loss: 0.22420889505233718\n",
            "Epoch 13/23, Loss: 0.21774542711619704\n",
            "Epoch 14/23, Loss: 0.2156775460784178\n",
            "Epoch 15/23, Loss: 0.21378458900464972\n",
            "Epoch 16/23, Loss: 0.21481819878847663\n",
            "Epoch 17/23, Loss: 0.21495674042118987\n",
            "Epoch 18/23, Loss: 0.21347803815681646\n",
            "Epoch 19/23, Loss: 0.21244262755102022\n",
            "Epoch 20/23, Loss: 0.21040523536595754\n",
            "Epoch 21/23, Loss: 0.2164500913959431\n",
            "Epoch 22/23, Loss: 0.21548194003755933\n",
            "Epoch 23/23, Loss: 0.20696027745162288\n",
            "Finished Training\n",
            "Best Threshold: 0.16, Best F1-score: 0.5607\n",
            "Final F1-score: 0.5607\n",
            "Point-wise F1: 0.56\n",
            "Point-adjust F1: 0.71\n",
            "Composite F1: 0.6\n",
            "Event-wise F1: 0.58\n",
            "Precision: 0.62\n",
            "Recall: 0.55\n",
            "Time:  47.04\n"
          ]
        }
      ]
    },
    {
      "cell_type": "code",
      "source": [
        "# import matplotlib.pyplot as plt\n",
        "\n",
        "# plt.plot(range(1, len(ew_f1_loop_result) + 1), ew_f1_loop_result, marker='o', linestyle='-', color='b')\n",
        "# plt.xlabel('Iteration')\n",
        "# plt.ylabel('EW F1 Score')\n",
        "# plt.title('EW F1 Score per Iteration')\n",
        "# plt.grid(True)\n",
        "# plt.show()\n",
        "\n",
        "# # Finding the maximum value\n",
        "# max_ew_f1 = max(ew_f1_loop_result)\n",
        "# max_index = ew_f1_loop_result.index(max_ew_f1)\n",
        "\n",
        "# print(f\"Maximum EW F1 Score: {max_ew_f1} at iteration {max_index + 1} \\n\")\n",
        "\n",
        "# # Printing the results\n",
        "# for i in range(len(ew_f1_loop_result)):\n",
        "#     print(f\"Iteration {i + 1}:\")\n",
        "#     print(f\"  EW F1 Score: {ew_f1_loop_result[i]}\")\n",
        "#     print(f\"  EW Precision: {ew_precision_loop_result[i]}\")\n",
        "#     print(f\"  EW Recall: {ew_recall_loop_result[i]}\")\n",
        "#     print(f\"  Training Time: {train_time_loop_result[i]} seconds\")\n",
        "#     print(f\"  Testing Time: {test_time_loop_result[i]} seconds\")\n",
        "#     print()"
      ],
      "metadata": {
        "id": "7vPUHNrmfrne"
      },
      "execution_count": 901,
      "outputs": []
    },
    {
      "cell_type": "code",
      "source": [
        "print(len(pod_predictions))\n",
        "print(len(node_predictions))"
      ],
      "metadata": {
        "colab": {
          "base_uri": "https://localhost:8080/"
        },
        "id": "9Zr41mK7j6zi",
        "outputId": "e538dbe2-ea97-4583-b3da-1407dd109332"
      },
      "execution_count": 902,
      "outputs": [
        {
          "output_type": "stream",
          "name": "stdout",
          "text": [
            "2016\n",
            "2016\n"
          ]
        }
      ]
    },
    {
      "cell_type": "code",
      "source": [
        "aggregated_predictions = (pod_predictions + node_predictions + pod_predictions + node_predictions + pod_predictions) / 5\n",
        "#aggregated_predictions = (node_predictions + pod_predictions) / 2\n",
        "aggregated_predictions"
      ],
      "metadata": {
        "colab": {
          "base_uri": "https://localhost:8080/"
        },
        "id": "B-YBhgeHmPeU",
        "outputId": "c37cd3fc-5b9e-42d4-8529-1044d7ffcc92"
      },
      "execution_count": 903,
      "outputs": [
        {
          "output_type": "execute_result",
          "data": {
            "text/plain": [
              "tensor([0.0245, 0.0182, 0.0149,  ..., 0.0745, 0.0998, 0.0632])"
            ]
          },
          "metadata": {},
          "execution_count": 903
        }
      ]
    },
    {
      "cell_type": "code",
      "source": [
        "# Find the best threshold\n",
        "best_threshold = 0.0\n",
        "best_f1 = 0.0\n",
        "for threshold in np.arange(0, 1.0, 0.001):\n",
        "    predictions = (aggregated_predictions >= threshold).float()\n",
        "    f1 = f1_score(targets.numpy(), predictions.numpy())\n",
        "    if f1 > best_f1:\n",
        "        best_f1 = f1\n",
        "        best_threshold = threshold\n",
        "        final_predictions = predictions\n",
        "\n",
        "print(f'Best Threshold: {best_threshold:.2f}, Best F1-score: {best_f1:.4f}')"
      ],
      "metadata": {
        "colab": {
          "base_uri": "https://localhost:8080/"
        },
        "id": "Sxr3ooibnEY5",
        "outputId": "0c8c377b-85f9-4a1c-ee69-398c1cb9f427"
      },
      "execution_count": 904,
      "outputs": [
        {
          "output_type": "stream",
          "name": "stdout",
          "text": [
            "Best Threshold: 0.27, Best F1-score: 0.8207\n"
          ]
        }
      ]
    },
    {
      "cell_type": "code",
      "source": [
        "print(final_predictions.sum())"
      ],
      "metadata": {
        "colab": {
          "base_uri": "https://localhost:8080/"
        },
        "id": "m-_MvSXZopdj",
        "outputId": "61f48e03-7f13-49b1-83dd-068d75028357"
      },
      "execution_count": 905,
      "outputs": [
        {
          "output_type": "stream",
          "name": "stdout",
          "text": [
            "tensor(124.)\n"
          ]
        }
      ]
    },
    {
      "cell_type": "code",
      "source": [
        "pw_precision, pw_recall, pw_f1 = e.calculate_point_wise(targets, final_predictions)\n",
        "print('Point-wise F1:', pw_f1)\n",
        "\n",
        "pa_precision, pa_recall, pa_f1 = e.calculate_point_adjusted(targets, final_predictions)\n",
        "print('Point-adjust F1:', pa_f1)\n",
        "\n",
        "composite_precision, composite_recall, composite_f1 = e.calculate_composite(targets, final_predictions)\n",
        "print('Composite F1:', composite_f1)\n",
        "\n",
        "ew_precision, ew_recall, ew_f1 = e.calculate_event_wise(targets, final_predictions)\n",
        "print('Event-wise F1:', ew_f1)\n",
        "\n",
        "pr = e.evaluate(targets, final_predictions)\n",
        "print('Precision:', pr.loc['Eventwise'][0])\n",
        "print('Recall:', pr.loc['Eventwise'][1])"
      ],
      "metadata": {
        "colab": {
          "base_uri": "https://localhost:8080/"
        },
        "id": "olIptWbToHpt",
        "outputId": "263a76ac-ec3b-403d-e4f4-eb99e43fe4d2"
      },
      "execution_count": 906,
      "outputs": [
        {
          "output_type": "stream",
          "name": "stdout",
          "text": [
            "Point-wise F1: 0.82\n",
            "Point-adjust F1: 0.9\n",
            "Composite F1: 0.88\n",
            "Event-wise F1: 0.91\n",
            "Precision: 0.87\n",
            "Recall: 0.95\n"
          ]
        }
      ]
    },
    {
      "cell_type": "code",
      "source": [
        "cm = confusion_matrix(targets, final_predictions)\n",
        "\n",
        "TN, FP, FN, TP = cm.ravel()\n",
        "FPR = FP / (FP + TN) if (FP + TN) > 0 else 0\n",
        "print(\"False Positive Rate:\", FPR)\n",
        "\n",
        "# Confusion matrix\n",
        "plt.figure(figsize=(8, 6))\n",
        "sns.heatmap(cm, annot=True, fmt='d', cmap='Blues', cbar=False,\n",
        "            xticklabels=['Normal', 'Anomaly'], yticklabels=['Normal', 'Anomaly'])\n",
        "plt.xlabel('Predicted Label')\n",
        "plt.ylabel('True Label')\n",
        "plt.title('Confusion Matrix')\n",
        "plt.show()"
      ],
      "metadata": {
        "colab": {
          "base_uri": "https://localhost:8080/",
          "height": 581
        },
        "id": "o7kAW9uGoPHh",
        "outputId": "b3a83afb-4ceb-40f5-cb08-d6fbecc69948"
      },
      "execution_count": 907,
      "outputs": [
        {
          "output_type": "stream",
          "name": "stdout",
          "text": [
            "False Positive Rate: 0.01111699311805188\n"
          ]
        },
        {
          "output_type": "display_data",
          "data": {
            "text/plain": [
              "<Figure size 800x600 with 1 Axes>"
            ],
            "image/png": "[encoded data removed]"
          },
          "metadata": {}
        }
      ]
    },
    {
      "cell_type": "code",
      "source": [],
      "metadata": {
        "id": "7yieGEIqpu70"
      },
      "execution_count": 907,
      "outputs": []
    }
  ]
}