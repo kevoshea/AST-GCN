{
  "cells": [
    {
      "cell_type": "code",
      "execution_count": 591,
      "id": "ed0e23b0",
      "metadata": {
        "id": "ed0e23b0"
      },
      "outputs": [],
      "source": [
        "import numpy as np\n",
        "import pandas as pd\n",
        "import torch\n",
        "import torch.nn as nn\n",
        "import torch.optim as optim\n",
        "from torch.utils.data import Dataset, DataLoader\n",
        "from sklearn.metrics import f1_score, confusion_matrix\n",
        "from sklearn.preprocessing import MinMaxScaler\n",
        "from sklearn.model_selection import train_test_split\n",
        "import random, time, csv, os\n",
        "import matplotlib.pyplot as plt\n",
        "import seaborn as sns\n",
        "\n",
        "import adj_matrix as adj\n",
        "import evaluator as e"
      ]
    },
    {
      "cell_type": "code",
      "source": [
        "# # from google.colab import drive\n",
        "# # drive.mount('/content/drive')\n",
        "\n",
        "# import tensorflow as tf\n",
        "# physical_devices = tf.config.list_physical_devices('GPU')\n",
        "\n",
        "# print(\"GPU:\", tf.config.list_physical_devices('GPU'))\n",
        "# print(\"Num GPUs:\", len(physical_devices))"
      ],
      "metadata": {
        "id": "4bOPnmCJoJg3"
      },
      "id": "4bOPnmCJoJg3",
      "execution_count": 592,
      "outputs": []
    },
    {
      "cell_type": "code",
      "execution_count": 593,
      "id": "0bc0fa0e",
      "metadata": {
        "id": "0bc0fa0e",
        "colab": {
          "base_uri": "https://localhost:8080/"
        },
        "outputId": "e61d750f-f371-4024-bf21-11da0482d697"
      },
      "outputs": [
        {
          "output_type": "stream",
          "name": "stdout",
          "text": [
            "PyTorch version: 2.3.0+cu121\n",
            "Is MPS (Metal Performance Shader) built? False\n",
            "Is MPS available? False\n",
            "Using device: cpu\n"
          ]
        }
      ],
      "source": [
        "print(f\"PyTorch version: {torch.__version__}\")\n",
        "\n",
        "# Check PyTorch has access to MPS (Metal Performance Shader, Apple's GPU architecture)\n",
        "print(f\"Is MPS (Metal Performance Shader) built? {torch.backends.mps.is_built()}\")\n",
        "print(f\"Is MPS available? {torch.backends.mps.is_available()}\")\n",
        "\n",
        "# Set the device\n",
        "device = \"mps\" if torch.backends.mps.is_available() else \"cpu\"\n",
        "print(f\"Using device: {device}\")"
      ]
    },
    {
      "cell_type": "code",
      "execution_count": 594,
      "id": "ff6b445d",
      "metadata": {
        "id": "ff6b445d"
      },
      "outputs": [],
      "source": [
        "WINDOW_SIZE = 16\n",
        "RANDOM_SEED = 42\n",
        "\n",
        "def set_rand():\n",
        "\n",
        "    # Set the seed for Python's built-in random module\n",
        "    random.seed(RANDOM_SEED)\n",
        "    # Set the seed for NumPy\n",
        "    np.random.seed(RANDOM_SEED)\n",
        "    # Set the seed for PyTorch\n",
        "    torch.manual_seed(RANDOM_SEED)\n",
        "\n",
        "    # If using CUDA\n",
        "    if torch.cuda.is_available():\n",
        "        torch.cuda.manual_seed(RANDOM_SEED)\n",
        "        torch.cuda.manual_seed_all(RANDOM_SEED)  # if you are using multi-GPU.\n",
        "        torch.backends.cudnn.deterministic = True  # Ensure deterministic behavior.\n",
        "        torch.backends.cudnn.benchmark = False  # Disable the inbuilt cudnn auto-tuner that finds the best algorithm to use for your hardware.\n",
        "\n",
        "    # Optional: Set seed for environment variables (if running on specific hardware, such as GPUs)\n",
        "    os.environ['PYTHONHASHSEED'] = str(RANDOM_SEED)\n",
        "\n",
        "set_rand()"
      ]
    },
    {
      "cell_type": "code",
      "execution_count": 595,
      "id": "79169598",
      "metadata": {
        "colab": {
          "base_uri": "https://localhost:8080/"
        },
        "id": "79169598",
        "outputId": "371d634a-fc2b-41fc-8379-22ac4a905ed9"
      },
      "outputs": [
        {
          "output_type": "execute_result",
          "data": {
            "text/plain": [
              "(10081, 471)"
            ]
          },
          "metadata": {},
          "execution_count": 595
        }
      ],
      "source": [
        "MODEL = 'STGCN'\n",
        "DATASET = '20-05-2024'\n",
        "df = pd.read_csv(f'/content/{DATASET}.csv')\n",
        "y_df = df['anomaly']  # Target\n",
        "#df = df[:1000]\n",
        "df.shape"
      ]
    },
    {
      "cell_type": "markdown",
      "id": "691a1b40",
      "metadata": {
        "id": "691a1b40"
      },
      "source": [
        "## Pre-process for cloud pods"
      ]
    },
    {
      "cell_type": "code",
      "execution_count": 596,
      "id": "df7533bf",
      "metadata": {
        "colab": {
          "base_uri": "https://localhost:8080/"
        },
        "id": "df7533bf",
        "outputId": "4170ef64-0210-4e31-b978-a337d17d1f81"
      },
      "outputs": [
        {
          "output_type": "stream",
          "name": "stdout",
          "text": [
            "(10081, 14, 18)\n"
          ]
        }
      ],
      "source": [
        "selected_features = ['pod_memory_request|Average|rabbitmq', 'pod_memory_request|Average|queue-master', 'pod_memory_request|Average|shipping', 'pod_memory_request|Average|catalogue', 'pod_memory_request|Average|user', 'pod_memory_request|Average|carts', 'pod_memory_request|Average|orders', 'pod_memory_request|Average|front-end', 'pod_memory_request|Average|payment', 'pod_memory_request|Average|session-db', 'pod_memory_request|Average|catalogue-db', 'pod_memory_request|Average|orders-db', 'pod_memory_request|Average|user-db', 'pod_memory_request|Average|carts-db', 'pod_status_running|Average|rabbitmq', 'pod_status_running|Average|queue-master', 'pod_status_running|Average|shipping', 'pod_status_running|Average|catalogue', 'pod_status_running|Average|user', 'pod_status_running|Average|carts', 'pod_status_running|Average|orders', 'pod_status_running|Average|front-end', 'pod_status_running|Average|payment', 'pod_status_running|Average|session-db', 'pod_status_running|Average|catalogue-db', 'pod_status_running|Average|orders-db', 'pod_status_running|Average|user-db', 'pod_status_running|Average|carts-db', 'pod_status_pending|Average|rabbitmq', 'pod_status_pending|Average|queue-master', 'pod_status_pending|Average|shipping', 'pod_status_pending|Average|catalogue', 'pod_status_pending|Average|user', 'pod_status_pending|Average|carts', 'pod_status_pending|Average|orders', 'pod_status_pending|Average|front-end', 'pod_status_pending|Average|payment', 'pod_status_pending|Average|session-db', 'pod_status_pending|Average|catalogue-db', 'pod_status_pending|Average|orders-db', 'pod_status_pending|Average|user-db', 'pod_status_pending|Average|carts-db', 'pod_memory_utilization|Average|rabbitmq', 'pod_memory_utilization|Average|queue-master', 'pod_memory_utilization|Average|shipping', 'pod_memory_utilization|Average|catalogue', 'pod_memory_utilization|Average|user', 'pod_memory_utilization|Average|carts', 'pod_memory_utilization|Average|orders', 'pod_memory_utilization|Average|front-end', 'pod_memory_utilization|Average|payment', 'pod_memory_utilization|Average|session-db', 'pod_memory_utilization|Average|catalogue-db', 'pod_memory_utilization|Average|orders-db', 'pod_memory_utilization|Average|user-db', 'pod_memory_utilization|Average|carts-db', 'pod_network_tx_bytes|Average|rabbitmq', 'pod_network_tx_bytes|Average|queue-master', 'pod_network_tx_bytes|Average|shipping', 'pod_network_tx_bytes|Average|catalogue', 'pod_network_tx_bytes|Average|user', 'pod_network_tx_bytes|Average|carts', 'pod_network_tx_bytes|Average|orders', 'pod_network_tx_bytes|Average|front-end', 'pod_network_tx_bytes|Average|payment', 'pod_network_tx_bytes|Average|session-db', 'pod_network_tx_bytes|Average|catalogue-db', 'pod_network_tx_bytes|Average|orders-db', 'pod_network_tx_bytes|Average|user-db', 'pod_network_tx_bytes|Average|carts-db', 'pod_cpu_reserved_capacity|Average|rabbitmq', 'pod_cpu_reserved_capacity|Average|queue-master', 'pod_cpu_reserved_capacity|Average|shipping', 'pod_cpu_reserved_capacity|Average|catalogue', 'pod_cpu_reserved_capacity|Average|user', 'pod_cpu_reserved_capacity|Average|carts', 'pod_cpu_reserved_capacity|Average|orders', 'pod_cpu_reserved_capacity|Average|front-end', 'pod_cpu_reserved_capacity|Average|payment', 'pod_cpu_reserved_capacity|Average|session-db', 'pod_cpu_reserved_capacity|Average|catalogue-db', 'pod_cpu_reserved_capacity|Average|orders-db', 'pod_cpu_reserved_capacity|Average|user-db', 'pod_cpu_reserved_capacity|Average|carts-db', 'pod_status_failed|Average|rabbitmq', 'pod_status_failed|Average|queue-master', 'pod_status_failed|Average|shipping', 'pod_status_failed|Average|catalogue', 'pod_status_failed|Average|user', 'pod_status_failed|Average|carts', 'pod_status_failed|Average|orders', 'pod_status_failed|Average|front-end', 'pod_status_failed|Average|payment', 'pod_status_failed|Average|session-db', 'pod_status_failed|Average|catalogue-db', 'pod_status_failed|Average|orders-db', 'pod_status_failed|Average|user-db', 'pod_status_failed|Average|carts-db', 'pod_container_status_terminated|Average|rabbitmq', 'pod_container_status_terminated|Average|queue-master', 'pod_container_status_terminated|Average|shipping', 'pod_container_status_terminated|Average|catalogue', 'pod_container_status_terminated|Average|user', 'pod_container_status_terminated|Average|carts', 'pod_container_status_terminated|Average|orders', 'pod_container_status_terminated|Average|front-end', 'pod_container_status_terminated|Average|payment', 'pod_container_status_terminated|Average|session-db', 'pod_container_status_terminated|Average|catalogue-db', 'pod_container_status_terminated|Average|orders-db', 'pod_container_status_terminated|Average|user-db', 'pod_container_status_terminated|Average|carts-db', 'pod_container_status_running|Average|rabbitmq', 'pod_container_status_running|Average|queue-master', 'pod_container_status_running|Average|shipping', 'pod_container_status_running|Average|catalogue', 'pod_container_status_running|Average|user', 'pod_container_status_running|Average|carts', 'pod_container_status_running|Average|orders', 'pod_container_status_running|Average|front-end', 'pod_container_status_running|Average|payment', 'pod_container_status_running|Average|session-db', 'pod_container_status_running|Average|catalogue-db', 'pod_container_status_running|Average|orders-db', 'pod_container_status_running|Average|user-db', 'pod_container_status_running|Average|carts-db', 'pod_status_scheduled|Average|rabbitmq', 'pod_status_scheduled|Average|queue-master', 'pod_status_scheduled|Average|shipping', 'pod_status_scheduled|Average|catalogue', 'pod_status_scheduled|Average|user', 'pod_status_scheduled|Average|carts', 'pod_status_scheduled|Average|orders', 'pod_status_scheduled|Average|front-end', 'pod_status_scheduled|Average|payment', 'pod_status_scheduled|Average|session-db', 'pod_status_scheduled|Average|catalogue-db', 'pod_status_scheduled|Average|orders-db', 'pod_status_scheduled|Average|user-db', 'pod_status_scheduled|Average|carts-db', 'pod_memory_reserved_capacity|Average|rabbitmq', 'pod_memory_reserved_capacity|Average|queue-master', 'pod_memory_reserved_capacity|Average|shipping', 'pod_memory_reserved_capacity|Average|catalogue', 'pod_memory_reserved_capacity|Average|user', 'pod_memory_reserved_capacity|Average|carts', 'pod_memory_reserved_capacity|Average|orders', 'pod_memory_reserved_capacity|Average|front-end', 'pod_memory_reserved_capacity|Average|payment', 'pod_memory_reserved_capacity|Average|session-db', 'pod_memory_reserved_capacity|Average|catalogue-db', 'pod_memory_reserved_capacity|Average|orders-db', 'pod_memory_reserved_capacity|Average|user-db', 'pod_memory_reserved_capacity|Average|carts-db', 'pod_interface_network_tx_dropped|Average|rabbitmq', 'pod_interface_network_tx_dropped|Average|queue-master', 'pod_interface_network_tx_dropped|Average|shipping', 'pod_interface_network_tx_dropped|Average|catalogue', 'pod_interface_network_tx_dropped|Average|user', 'pod_interface_network_tx_dropped|Average|carts', 'pod_interface_network_tx_dropped|Average|orders', 'pod_interface_network_tx_dropped|Average|front-end', 'pod_interface_network_tx_dropped|Average|payment', 'pod_interface_network_tx_dropped|Average|session-db', 'pod_interface_network_tx_dropped|Average|catalogue-db', 'pod_interface_network_tx_dropped|Average|orders-db', 'pod_interface_network_tx_dropped|Average|user-db', 'pod_interface_network_tx_dropped|Average|carts-db', 'pod_network_rx_bytes|Average|rabbitmq', 'pod_network_rx_bytes|Average|queue-master', 'pod_network_rx_bytes|Average|shipping', 'pod_network_rx_bytes|Average|catalogue', 'pod_network_rx_bytes|Average|user', 'pod_network_rx_bytes|Average|carts', 'pod_network_rx_bytes|Average|orders', 'pod_network_rx_bytes|Average|front-end', 'pod_network_rx_bytes|Average|payment', 'pod_network_rx_bytes|Average|session-db', 'pod_network_rx_bytes|Average|catalogue-db', 'pod_network_rx_bytes|Average|orders-db', 'pod_network_rx_bytes|Average|user-db', 'pod_network_rx_bytes|Average|carts-db', 'pod_number_of_running_containers|Average|rabbitmq', 'pod_number_of_running_containers|Average|queue-master', 'pod_number_of_running_containers|Average|shipping', 'pod_number_of_running_containers|Average|catalogue', 'pod_number_of_running_containers|Average|user', 'pod_number_of_running_containers|Average|carts', 'pod_number_of_running_containers|Average|orders', 'pod_number_of_running_containers|Average|front-end', 'pod_number_of_running_containers|Average|payment', 'pod_number_of_running_containers|Average|session-db', 'pod_number_of_running_containers|Average|catalogue-db', 'pod_number_of_running_containers|Average|orders-db', 'pod_number_of_running_containers|Average|user-db', 'pod_number_of_running_containers|Average|carts-db', 'pod_number_of_container_restarts|Average|rabbitmq', 'pod_number_of_container_restarts|Average|queue-master', 'pod_number_of_container_restarts|Average|shipping', 'pod_number_of_container_restarts|Average|catalogue', 'pod_number_of_container_restarts|Average|user', 'pod_number_of_container_restarts|Average|carts', 'pod_number_of_container_restarts|Average|orders', 'pod_number_of_container_restarts|Average|front-end', 'pod_number_of_container_restarts|Average|payment', 'pod_number_of_container_restarts|Average|session-db', 'pod_number_of_container_restarts|Average|catalogue-db', 'pod_number_of_container_restarts|Average|orders-db', 'pod_number_of_container_restarts|Average|user-db', 'pod_number_of_container_restarts|Average|carts-db', 'pod_interface_network_rx_dropped|Average|rabbitmq', 'pod_interface_network_rx_dropped|Average|queue-master', 'pod_interface_network_rx_dropped|Average|shipping', 'pod_interface_network_rx_dropped|Average|catalogue', 'pod_interface_network_rx_dropped|Average|user', 'pod_interface_network_rx_dropped|Average|carts', 'pod_interface_network_rx_dropped|Average|orders', 'pod_interface_network_rx_dropped|Average|front-end', 'pod_interface_network_rx_dropped|Average|payment', 'pod_interface_network_rx_dropped|Average|session-db', 'pod_interface_network_rx_dropped|Average|catalogue-db', 'pod_interface_network_rx_dropped|Average|orders-db', 'pod_interface_network_rx_dropped|Average|user-db', 'pod_interface_network_rx_dropped|Average|carts-db', 'pod_cpu_utilization|Average|rabbitmq', 'pod_cpu_utilization|Average|queue-master', 'pod_cpu_utilization|Average|shipping', 'pod_cpu_utilization|Average|catalogue', 'pod_cpu_utilization|Average|user', 'pod_cpu_utilization|Average|carts', 'pod_cpu_utilization|Average|orders', 'pod_cpu_utilization|Average|front-end', 'pod_cpu_utilization|Average|payment', 'pod_cpu_utilization|Average|session-db', 'pod_cpu_utilization|Average|catalogue-db', 'pod_cpu_utilization|Average|orders-db', 'pod_cpu_utilization|Average|user-db', 'pod_cpu_utilization|Average|carts-db', 'pod_status_unknown|Average|rabbitmq', 'pod_status_unknown|Average|queue-master', 'pod_status_unknown|Average|shipping', 'pod_status_unknown|Average|catalogue', 'pod_status_unknown|Average|user', 'pod_status_unknown|Average|carts', 'pod_status_unknown|Average|orders', 'pod_status_unknown|Average|front-end', 'pod_status_unknown|Average|payment', 'pod_status_unknown|Average|session-db', 'pod_status_unknown|Average|catalogue-db', 'pod_status_unknown|Average|orders-db', 'pod_status_unknown|Average|user-db', 'pod_status_unknown|Average|carts-db']\n",
        "X = df[selected_features]\n",
        "X.columns = X.columns.str.replace('-', '_')\n",
        "scaler = MinMaxScaler()\n",
        "X_scaled = scaler.fit_transform(X)\n",
        "X = pd.DataFrame(X_scaled, columns=X.columns)\n",
        "\n",
        "# Z_features = selected_features + ['time', 'anomaly', 'anomaly_load', 'anomaly_fis']\n",
        "# Z = df.drop(columns=Z_features)\n",
        "# Z_scaled = scaler.fit_transform(Z)\n",
        "# Z = pd.DataFrame(Z_scaled, columns=Z.columns)\n",
        "\n",
        "import numpy as np\n",
        "\n",
        "# List of features and pods\n",
        "features = [\n",
        "    'pod_container_status_running|Average|',\n",
        "    'pod_container_status_terminated|Average|',\n",
        "    'pod_cpu_reserved_capacity|Average|',\n",
        "    'pod_cpu_utilization|Average|',\n",
        "    'pod_interface_network_rx_dropped|Average|',\n",
        "    'pod_interface_network_tx_dropped|Average|',\n",
        "    'pod_memory_request|Average|',\n",
        "    'pod_memory_reserved_capacity|Average|',\n",
        "    'pod_memory_utilization|Average|',\n",
        "    'pod_network_rx_bytes|Average|',\n",
        "    'pod_network_tx_bytes|Average|',\n",
        "    'pod_number_of_container_restarts|Average|',\n",
        "    'pod_number_of_running_containers|Average|',\n",
        "    'pod_status_failed|Average|',\n",
        "    'pod_status_pending|Average|',\n",
        "    'pod_status_running|Average|',\n",
        "    'pod_status_scheduled|Average|',\n",
        "    'pod_status_unknown|Average|'\n",
        "]\n",
        "\n",
        "pods = [\n",
        "    'carts', 'carts_db',\n",
        "    'catalogue', 'catalogue_db',\n",
        "    'front_end',\n",
        "    'orders','orders_db',\n",
        "    'payment',\n",
        "    'queue_master',\n",
        "    'rabbitmq',\n",
        "    'session_db', 'shipping',\n",
        "    'user', 'user_db',\n",
        "]\n",
        "\n",
        "# Initialize empty arrays\n",
        "carts = np.empty((len(X), len(features)), dtype=np.float32)\n",
        "carts_db = np.empty((len(X), len(features)), dtype=np.float32)\n",
        "catalogue = np.empty((len(X), len(features)), dtype=np.float32)\n",
        "catalogue_db = np.empty((len(X), len(features)), dtype=np.float32)\n",
        "front_end = np.empty((len(X), len(features)), dtype=np.float32)\n",
        "orders = np.empty((len(X), len(features)), dtype=np.float32)\n",
        "orders_db = np.empty((len(X), len(features)), dtype=np.float32)\n",
        "payment = np.empty((len(X), len(features)), dtype=np.float32)\n",
        "queue_master = np.empty((len(X), len(features)), dtype=np.float32)\n",
        "rabbitmq = np.empty((len(X), len(features)), dtype=np.float32)\n",
        "session_db = np.empty((len(X), len(features)), dtype=np.float32)\n",
        "shipping = np.empty((len(X), len(features)), dtype=np.float32)\n",
        "user = np.empty((len(X), len(features)), dtype=np.float32)\n",
        "user_db = np.empty((len(X), len(features)), dtype=np.float32)\n",
        "\n",
        "# Extract data from DataFrame and populate arrays\n",
        "for idx, feature in enumerate(features):\n",
        "    for pod in pods:\n",
        "        column_name = f\"{feature}{pod}\"\n",
        "        array_to_fill = globals()[pod]  # get the array based on pod name\n",
        "        array_to_fill[:, idx] = X[column_name].values.astype(np.float32)\n",
        "\n",
        "X_nodes = np.stack((carts, carts_db, catalogue, catalogue_db, front_end, orders, orders_db, payment,\n",
        "                    queue_master, rabbitmq, session_db, shipping, user, user_db), axis=1)\n",
        "print(X_nodes.shape)"
      ]
    },
    {
      "cell_type": "code",
      "execution_count": 597,
      "id": "c1f95baf",
      "metadata": {
        "id": "c1f95baf"
      },
      "outputs": [],
      "source": [
        "class MyDataset(Dataset):\n",
        "    def __init__(self, data, targets):\n",
        "        \"\"\"\n",
        "        Args:\n",
        "            data (numpy array or torch tensor): Data of shape (num_samples, in_channels, window, num_nodes)\n",
        "            targets (numpy array or torch tensor): Corresponding targets/labels\n",
        "        \"\"\"\n",
        "        self.data = torch.tensor(data, dtype=torch.float32)\n",
        "        self.targets = torch.tensor(targets, dtype=torch.float32)\n",
        "\n",
        "    def __len__(self):\n",
        "        return len(self.data)\n",
        "\n",
        "    def __getitem__(self, idx):\n",
        "        return self.data[idx], self.targets[idx]"
      ]
    },
    {
      "cell_type": "code",
      "execution_count": 598,
      "id": "fc95aa54",
      "metadata": {
        "id": "fc95aa54"
      },
      "outputs": [],
      "source": [
        "# Define the Model\n",
        "\n",
        "class STGCNBlock(nn.Module):\n",
        "    def __init__(self, in_channels, out_channels, num_nodes, am, do):\n",
        "        super(STGCNBlock, self).__init__()\n",
        "        self.am = torch.tensor(am, dtype=torch.float32)\n",
        "        self.spatial_conv = nn.Conv2d(in_channels, out_channels, kernel_size=(1, num_nodes))\n",
        "        self.temporal_conv = nn.Conv2d(out_channels, out_channels, kernel_size=(3, 1), padding=(1, 0))\n",
        "        self.spatial_attention = nn.Linear(num_nodes, num_nodes)\n",
        "        self.temporal_attention = nn.Linear(out_channels, 1)\n",
        "        self.dropout = nn.Dropout(do)\n",
        "        self.batch_norm = nn.BatchNorm2d(out_channels)\n",
        "\n",
        "    def forward(self, x):\n",
        "        # x shape: (batch_size, in_channels, window, num_nodes)\n",
        "        # Spatial attention mechanism\n",
        "        spatial_attn_weights = torch.softmax(self.spatial_attention(self.am), dim=1)  # shape: (num_nodes, num_nodes)\n",
        "        x = torch.einsum('bchi,nm->bchi', x, spatial_attn_weights)  # shape: (batch_size, in_channels, window, num_nodes)\n",
        "        x = self.spatial_conv(x)  # shape: (batch_size, out_channels, window, 1)\n",
        "        #x = self.batch_norm(x)\n",
        "        x = torch.relu(x)\n",
        "        x = self.temporal_conv(x)  # shape: (batch_size, out_channels, window, 1)\n",
        "        x = self.batch_norm(x)\n",
        "        x = torch.relu(x)\n",
        "        x = self.dropout(x)  # Apply dropout\n",
        "        x = x.squeeze(-1)  # shape: (batch_size, out_channels, window)\n",
        "\n",
        "        # Temporal attention mechanism\n",
        "        temporal_attn_weights = torch.softmax(self.temporal_attention(x.transpose(1, 2)), dim=1)  # shape: (batch_size, window, 1)\n",
        "        x = torch.sum(temporal_attn_weights * x.transpose(1, 2), dim=1)  # shape: (batch_size, out_channels)\n",
        "\n",
        "        return x, temporal_attn_weights, spatial_attn_weights\n",
        "\n",
        "class AttentionBasedSTGCN(nn.Module):\n",
        "    def __init__(self, num_nodes, num_features, window, hidden_dim, am, do):\n",
        "        super(AttentionBasedSTGCN, self).__init__()\n",
        "        self.stgcn_block = STGCNBlock(num_features, hidden_dim, num_nodes, am, do)\n",
        "        self.fc = nn.Linear(hidden_dim, 1)\n",
        "        self.sigmoid = nn.Sigmoid()\n",
        "\n",
        "    def forward(self, x):\n",
        "        x = x.permute(0, 3, 1, 2)  # (batch_size, num_features, window, num_nodes)\n",
        "        x, temporal_attn_weights, spatial_attn_weights = self.stgcn_block(x)\n",
        "        x = self.fc(x)\n",
        "        x = self.sigmoid(x)\n",
        "        return x.squeeze(-1), temporal_attn_weights, spatial_attn_weights"
      ]
    },
    {
      "cell_type": "code",
      "execution_count": 599,
      "id": "fb29599b",
      "metadata": {
        "colab": {
          "base_uri": "https://localhost:8080/"
        },
        "id": "fb29599b",
        "outputId": "c7090035-82a4-43e5-be3d-57de1c637348"
      },
      "outputs": [
        {
          "output_type": "stream",
          "name": "stdout",
          "text": [
            "I: 1\n",
            "Epoch 1/23, Loss: 0.30363844723322847\n",
            "Epoch 2/23, Loss: 0.23691597460739075\n",
            "Epoch 3/23, Loss: 0.21330356569706507\n",
            "Epoch 4/23, Loss: 0.2056024071365299\n",
            "Epoch 5/23, Loss: 0.19449195150221252\n",
            "Epoch 6/23, Loss: 0.1890669545856658\n",
            "Epoch 7/23, Loss: 0.18669636775889703\n",
            "Epoch 8/23, Loss: 0.1815652560082174\n",
            "Epoch 9/23, Loss: 0.1805685680618431\n",
            "Epoch 10/23, Loss: 0.18311259102899\n",
            "Epoch 11/23, Loss: 0.18044094513944597\n",
            "Epoch 12/23, Loss: 0.17573996555642513\n",
            "Epoch 13/23, Loss: 0.17421452845758748\n",
            "Epoch 14/23, Loss: 0.17093347864359543\n",
            "Epoch 15/23, Loss: 0.17195260639836268\n",
            "Epoch 16/23, Loss: 0.16606658345860228\n",
            "Epoch 17/23, Loss: 0.16740450238758148\n",
            "Epoch 18/23, Loss: 0.1637893934542355\n",
            "Epoch 19/23, Loss: 0.16278779948310507\n",
            "Epoch 20/23, Loss: 0.15744640182232295\n",
            "Epoch 21/23, Loss: 0.15539516759551045\n",
            "Epoch 22/23, Loss: 0.1562814810163071\n",
            "Epoch 23/23, Loss: 0.15384849073092635\n",
            "Finished Training\n",
            "Best Threshold: 0.18, Best F1-score: 0.6340\n",
            "Final F1-score: 0.6340\n",
            "Point-wise F1: 0.63\n",
            "Point-adjust F1: 0.74\n",
            "Composite F1: 0.78\n",
            "Event-wise F1: 0.8\n",
            "Precision: 0.8\n",
            "Recall: 0.8\n",
            "Time:  62.669999999999995\n"
          ]
        }
      ],
      "source": [
        "pod_predictions = []\n",
        "\n",
        "ew_f1_loop_result = []\n",
        "ew_precision_loop_result = []\n",
        "ew_recall_loop_result = []\n",
        "train_time_loop_result = []\n",
        "test_time_loop_result = []\n",
        "\n",
        "T_steps = 2\n",
        "\n",
        "for i in range(1, T_steps):\n",
        "\n",
        "    print('I:', i)\n",
        "    set_rand() # reset random seed each loop\n",
        "\n",
        "    num_nodes = 14\n",
        "    num_features = 18\n",
        "    num_timesteps = len(df)  # total time steps\n",
        "    window = WINDOW_SIZE\n",
        "\n",
        "    features = X_nodes\n",
        "    labels = np.array(y_df)\n",
        "\n",
        "    # Create historical data and corresponding labels\n",
        "    X = []\n",
        "    y = []\n",
        "\n",
        "    time_T = 1 # For time t use 1, for t+1 use 0\n",
        "\n",
        "    for t in range(window, num_timesteps+time_T):\n",
        "        X.append(features[t-window:t])\n",
        "        y.append(labels[t-time_T])\n",
        "    X = np.array(X)  # shape (num_samples, window, num_nodes, num_features)\n",
        "    y = np.array(y)  # shape (num_samples,)\n",
        "\n",
        "    # Split into train and test sets\n",
        "    X_train, X_test, y_train, y_test = train_test_split(X, y, test_size=0.2, random_state=RANDOM_SEED, shuffle=False) #True, stratify=y)\n",
        "\n",
        "    # Create Dataset\n",
        "    dataset = MyDataset(X_train, y_train)\n",
        "\n",
        "    # Create DataLoader\n",
        "    batch_size = 20\n",
        "    dataloader = DataLoader(dataset, batch_size=batch_size, shuffle=True)\n",
        "\n",
        "    adj_matrix = adj.uni_loops()\n",
        "    #adj_matrix = np.zeros((14,14))\n",
        "\n",
        "    # print('Training set length:', len(X_train))\n",
        "    # print('Validation set length:', len(y_train))\n",
        "    # print('Testing set length:', len(X_test))\n",
        "    # print('ground truth length:', len(y_test))\n",
        "    # print('Anomalies in training set:', y_train.sum())\n",
        "    # print('Anomalies in test set', y_test.sum())\n",
        "\n",
        "    # Hyperparameters\n",
        "    hidden_dim = 30\n",
        "    learning_rate = 0.001\n",
        "    num_epochs = 23\n",
        "    dropout = 0 # 0.2\n",
        "\n",
        "    # Initialize model, loss, and optimizer\n",
        "    model = AttentionBasedSTGCN(num_nodes, num_features, window, hidden_dim, adj_matrix, dropout)\n",
        "    criterion = nn.BCELoss()\n",
        "    optimizer = optim.Adam(model.parameters(), lr=learning_rate)\n",
        "\n",
        "    train_losses = []\n",
        "    training_time = time.time()\n",
        "\n",
        "    for epoch in range(num_epochs):\n",
        "        model.train()\n",
        "        running_loss = 0.0\n",
        "        train_losses = []\n",
        "\n",
        "        for i, (inputs, labels) in enumerate(dataloader):\n",
        "            optimizer.zero_grad()\n",
        "            outputs, _, _ = model(inputs)\n",
        "            loss = criterion(outputs, labels)\n",
        "            loss.backward()\n",
        "            optimizer.step()\n",
        "            running_loss += loss.item()\n",
        "            train_losses.append(loss.item())\n",
        "\n",
        "        avg_loss = running_loss / len(dataloader)\n",
        "        train_losses.append(avg_loss)\n",
        "        print(f'Epoch {epoch+1}/{num_epochs}, Loss: {avg_loss}')\n",
        "\n",
        "    training_time = round(time.time()-training_time, 2)\n",
        "    print('Finished Training')\n",
        "\n",
        "    ################################# Evaluation ######################\n",
        "    test_time = time.time()\n",
        "    model.eval()\n",
        "    with torch.no_grad():\n",
        "        inputs = torch.tensor(X_test, dtype=torch.float32)\n",
        "        targets = torch.tensor(y_test, dtype=torch.float32)\n",
        "\n",
        "        outputs, temporal_attn_weights, spatial_attn_weights = model(inputs)\n",
        "        pod_predictions = outputs\n",
        "        # Find the best threshold\n",
        "        best_threshold = 0.0\n",
        "        best_f1 = 0.0\n",
        "        for threshold in np.arange(0.0, 1.0, 0.001):\n",
        "            predicted = (outputs >= threshold).float()\n",
        "            f1 = f1_score(targets.numpy(), predicted.numpy())\n",
        "            if f1 > best_f1:\n",
        "                best_f1 = f1\n",
        "                best_threshold = threshold\n",
        "\n",
        "        print(f'Best Threshold: {best_threshold:.2f}, Best F1-score: {best_f1:.4f}')\n",
        "\n",
        "        # Use the best threshold to make final predictions\n",
        "        predicted = (outputs >= best_threshold).float()\n",
        "        final_f1 = f1_score(targets.numpy(), predicted.numpy())\n",
        "        print(f'Final F1-score: {final_f1:.4f}')\n",
        "    #     print(\"Attention Weights (Temporal):\")\n",
        "    #     print(temporal_attn_weights.numpy())\n",
        "    #     print(\"Attention Weights (Spatial):\")\n",
        "    #     print(spatial_attn_weights.numpy())\n",
        "\n",
        "    test_time = round(time.time()-test_time, 2)\n",
        "\n",
        "    pw_precision, pw_recall, pw_f1 = e.calculate_point_wise(targets, predicted)\n",
        "    print('Point-wise F1:', pw_f1)\n",
        "\n",
        "    pa_precision, pa_recall, pa_f1 = e.calculate_point_adjusted(targets, predicted)\n",
        "    print('Point-adjust F1:', pa_f1)\n",
        "\n",
        "    composite_precision, composite_recall, composite_f1 = e.calculate_composite(targets, predicted)\n",
        "    print('Composite F1:', composite_f1)\n",
        "\n",
        "    ew_precision, ew_recall, ew_f1 = e.calculate_event_wise(targets, predicted)\n",
        "    print('Event-wise F1:', ew_f1)\n",
        "\n",
        "    pr = e.evaluate(targets, predicted)\n",
        "    print('Precision:', pr.loc['Eventwise'][0])\n",
        "    print('Recall:', pr.loc['Eventwise'][1])\n",
        "    print('Time: ', training_time + test_time)\n",
        "\n",
        "    ew_f1_loop_result.append(ew_f1)\n",
        "    ew_precision_loop_result.append(ew_precision)\n",
        "    ew_recall_loop_result.append(ew_recall)\n",
        "    train_time_loop_result.append(training_time)\n",
        "    test_time_loop_result.append(test_time)"
      ]
    },
    {
      "cell_type": "code",
      "execution_count": 600,
      "id": "B3mHx8N8uJKT",
      "metadata": {
        "id": "B3mHx8N8uJKT"
      },
      "outputs": [],
      "source": [
        "# import matplotlib.pyplot as plt\n",
        "\n",
        "# plt.plot(range(1, len(ew_f1_loop_result) + 1), ew_f1_loop_result, marker='o', linestyle='-', color='b')\n",
        "# plt.xlabel('Iteration')\n",
        "# plt.ylabel('EW F1 Score')\n",
        "# plt.title('EW F1 Score per Iteration')\n",
        "# plt.grid(True)\n",
        "# plt.show()\n",
        "\n",
        "# # Finding the maximum value\n",
        "# max_ew_f1 = max(ew_f1_loop_result)\n",
        "# max_index = ew_f1_loop_result.index(max_ew_f1)\n",
        "\n",
        "# print(f\"Maximum EW F1 Score: {max_ew_f1} at iteration {max_index + 1} \\n\")\n",
        "\n",
        "# # Printing the results\n",
        "# for i in range(len(ew_f1_loop_result)):\n",
        "#     print(f\"Iteration {i + 1}:\")\n",
        "#     print(f\"  EW F1 Score: {ew_f1_loop_result[i]}\")\n",
        "#     print(f\"  EW Precision: {ew_precision_loop_result[i]}\")\n",
        "#     print(f\"  EW Recall: {ew_recall_loop_result[i]}\")\n",
        "#     print(f\"  Training Time: {train_time_loop_result[i]} seconds\")\n",
        "#     print(f\"  Testing Time: {test_time_loop_result[i]} seconds\")\n",
        "#     print()\n"
      ]
    },
    {
      "cell_type": "markdown",
      "metadata": {
        "id": "hul0kt6HGK68"
      },
      "source": [
        "# Node classifier"
      ],
      "id": "hul0kt6HGK68"
    },
    {
      "cell_type": "code",
      "execution_count": 601,
      "metadata": {
        "id": "Dl4xlA1wGK68",
        "outputId": "0685faa0-386e-4075-c66c-30156dbcd61f",
        "colab": {
          "base_uri": "https://localhost:8080/"
        }
      },
      "outputs": [
        {
          "output_type": "stream",
          "name": "stdout",
          "text": [
            "torch.Size([10081, 5, 25])\n"
          ]
        }
      ],
      "source": [
        "# Nodes\n",
        "node_names = ['i-0157abca04ca7fd5d', 'i-0bb95b207adfb06d7', 'i-0de53f0ccb7f61704', 'i-0ed12dfad94cfff16', 'i-0ff84135a2c4cca0a']\n",
        "node_feature_names = [col for col in df.columns if any(node in col for node in node_names)]\n",
        "node_feature_names.sort()\n",
        "\n",
        "nodes_df = df[node_feature_names]\n",
        "# Convert to NumPy array\n",
        "nodes_array = nodes_df.to_numpy()\n",
        "# Reshape (10081, 5, 25)\n",
        "nodes_array_reshaped = nodes_array.reshape(len(df), 5, 25)\n",
        "# Convert to PyTorch tensor\n",
        "X_nodes = torch.tensor(nodes_array_reshaped)\n",
        "print(X_nodes.shape)"
      ],
      "id": "Dl4xlA1wGK68"
    },
    {
      "cell_type": "code",
      "source": [
        "node_predictions = []\n",
        "\n",
        "ew_f1_loop_result = []\n",
        "ew_precision_loop_result = []\n",
        "ew_recall_loop_result = []\n",
        "train_time_loop_result = []\n",
        "test_time_loop_result = []\n",
        "\n",
        "T_steps = 2\n",
        "\n",
        "for i in range(1, T_steps):\n",
        "\n",
        "    print('I:', i)\n",
        "    set_rand() # reset random seed each loop\n",
        "\n",
        "    num_nodes = 5\n",
        "    num_features = 25\n",
        "    num_timesteps = len(df)  # total time steps\n",
        "    window = WINDOW_SIZE # 16?\n",
        "\n",
        "    features = X_nodes\n",
        "    labels = np.array(y_df)\n",
        "\n",
        "    # Create historical data and corresponding labels\n",
        "    X = []\n",
        "    y = []\n",
        "\n",
        "    time_T = 1 # For time t use 1, for t+1 use 0\n",
        "\n",
        "    for t in range(window, num_timesteps+time_T):\n",
        "        X.append(features[t-window:t])\n",
        "        y.append(labels[t-time_T])\n",
        "    X = np.array(X)  # shape (num_samples, window, num_nodes, num_features)\n",
        "    y = np.array(y)  # shape (num_samples,)\n",
        "\n",
        "    # Split into train and test sets\n",
        "    X_train, X_test, y_train, y_test = train_test_split(X, y, test_size=0.2, random_state=RANDOM_SEED, shuffle=False) #True, stratify=y)\n",
        "\n",
        "    # Create Dataset\n",
        "    dataset = MyDataset(X_train, y_train)\n",
        "\n",
        "    # Create DataLoader\n",
        "    batch_size = 20\n",
        "    dataloader = DataLoader(dataset, batch_size=batch_size, shuffle=True)\n",
        "\n",
        "    #adj_matrix = adj.nodes_fc() # 84\n",
        "    #adj_matrix = np.zeros((5,5)) # 84\n",
        "    adj_matrix = np.array([[0,1,0,0,0], [0,0,1,0,0], [0,0,0,1,0], [0,0,0,0,1], [1,0,0,0,0]])\n",
        "    # 1,2,3  = 84\n",
        "    # 4,5 = 84 loops\n",
        "    #\n",
        "    #\n",
        "    #\n",
        "    #\n",
        "\n",
        "    # print('Training set length:', len(X_train))\n",
        "    # print('Validation set length:', len(y_train))\n",
        "    # print('Testing set length:', len(X_test))\n",
        "    # print('ground truth length:', len(y_test))\n",
        "    # print('Anomalies in training set:', y_train.sum())\n",
        "    # print('Anomalies in test set', y_test.sum())\n",
        "\n",
        "    # Hyperparameters\n",
        "    hidden_dim = 30\n",
        "    learning_rate = 0.001\n",
        "    num_epochs = 23\n",
        "    dropout = 0 # 0.2\n",
        "\n",
        "    # Initialize model, loss, and optimizer\n",
        "    model = AttentionBasedSTGCN(num_nodes, num_features, window, hidden_dim, adj_matrix, dropout)\n",
        "    criterion = nn.BCELoss()\n",
        "    optimizer = optim.Adam(model.parameters(), lr=learning_rate)\n",
        "\n",
        "    train_losses = []\n",
        "    training_time = time.time()\n",
        "\n",
        "    for epoch in range(num_epochs):\n",
        "        model.train()\n",
        "        running_loss = 0.0\n",
        "        train_losses = []\n",
        "\n",
        "        for i, (inputs, labels) in enumerate(dataloader):\n",
        "            optimizer.zero_grad()\n",
        "            outputs, _, _ = model(inputs)\n",
        "            loss = criterion(outputs, labels)\n",
        "            loss.backward()\n",
        "            optimizer.step()\n",
        "            running_loss += loss.item()\n",
        "            train_losses.append(loss.item())\n",
        "\n",
        "        avg_loss = running_loss / len(dataloader)\n",
        "        train_losses.append(avg_loss)\n",
        "        print(f'Epoch {epoch+1}/{num_epochs}, Loss: {avg_loss}')\n",
        "\n",
        "    training_time = round(time.time()-training_time, 2)\n",
        "    print('Finished Training')\n",
        "\n",
        "    ################################# Evaluation ######################\n",
        "    test_time = time.time()\n",
        "    model.eval()\n",
        "    with torch.no_grad():\n",
        "        inputs = torch.tensor(X_test, dtype=torch.float32)\n",
        "        targets = torch.tensor(y_test, dtype=torch.float32)\n",
        "\n",
        "        outputs, temporal_attn_weights, spatial_attn_weights = model(inputs)\n",
        "        node_predictions = outputs\n",
        "\n",
        "        # Find the best threshold\n",
        "        best_threshold = 0.0\n",
        "        best_f1 = 0.0\n",
        "        for threshold in np.arange(0.0, 1.0, 0.001):\n",
        "            predicted = (outputs >= threshold).float()\n",
        "            f1 = f1_score(targets.numpy(), predicted.numpy())\n",
        "            if f1 > best_f1:\n",
        "                best_f1 = f1\n",
        "                best_threshold = threshold\n",
        "\n",
        "        print(f'Best Threshold: {best_threshold:.2f}, Best F1-score: {best_f1:.4f}')\n",
        "\n",
        "        # Use the best threshold to make final predictions\n",
        "        predicted = (outputs >= best_threshold).float()\n",
        "        final_f1 = f1_score(targets.numpy(), predicted.numpy())\n",
        "        print(f'Final F1-score: {final_f1:.4f}')\n",
        "    #     print(\"Attention Weights (Temporal):\")\n",
        "    #     print(temporal_attn_weights.numpy())\n",
        "    #     print(\"Attention Weights (Spatial):\")\n",
        "    #     print(spatial_attn_weights.numpy())\n",
        "\n",
        "    test_time = round(time.time()-test_time, 2)\n",
        "\n",
        "    pw_precision, pw_recall, pw_f1 = e.calculate_point_wise(targets, predicted)\n",
        "    print('Point-wise F1:', pw_f1)\n",
        "\n",
        "    pa_precision, pa_recall, pa_f1 = e.calculate_point_adjusted(targets, predicted)\n",
        "    print('Point-adjust F1:', pa_f1)\n",
        "\n",
        "    composite_precision, composite_recall, composite_f1 = e.calculate_composite(targets, predicted)\n",
        "    print('Composite F1:', composite_f1)\n",
        "\n",
        "    ew_precision, ew_recall, ew_f1 = e.calculate_event_wise(targets, predicted)\n",
        "    print('Event-wise F1:', ew_f1)\n",
        "\n",
        "    pr = e.evaluate(targets, predicted)\n",
        "    print('Precision:', pr.loc['Eventwise'][0])\n",
        "    print('Recall:', pr.loc['Eventwise'][1])\n",
        "    print('Time: ', training_time + test_time)\n",
        "\n",
        "    ew_f1_loop_result.append(ew_f1)\n",
        "    ew_precision_loop_result.append(ew_precision)\n",
        "    ew_recall_loop_result.append(ew_recall)\n",
        "    train_time_loop_result.append(training_time)\n",
        "    test_time_loop_result.append(test_time)"
      ],
      "metadata": {
        "colab": {
          "base_uri": "https://localhost:8080/"
        },
        "id": "-3KomKxBfJrk",
        "outputId": "585f12de-8c76-4142-e011-e9e81912fff8"
      },
      "execution_count": 602,
      "outputs": [
        {
          "output_type": "stream",
          "name": "stdout",
          "text": [
            "I: 1\n",
            "Epoch 1/23, Loss: 0.32420750969914586\n",
            "Epoch 2/23, Loss: 0.3161749179953381\n",
            "Epoch 3/23, Loss: 0.3092342457149372\n",
            "Epoch 4/23, Loss: 0.29160912171302006\n",
            "Epoch 5/23, Loss: 0.28729199609781614\n",
            "Epoch 6/23, Loss: 0.28436197175947076\n",
            "Epoch 7/23, Loss: 0.28167365680890105\n",
            "Epoch 8/23, Loss: 0.2821213903446351\n",
            "Epoch 9/23, Loss: 0.2810393748042305\n",
            "Epoch 10/23, Loss: 0.2815335561098443\n",
            "Epoch 11/23, Loss: 0.27820339796154137\n",
            "Epoch 12/23, Loss: 0.2767784850713485\n",
            "Epoch 13/23, Loss: 0.2756360702161162\n",
            "Epoch 14/23, Loss: 0.27507937398205323\n",
            "Epoch 15/23, Loss: 0.27209080348979153\n",
            "Epoch 16/23, Loss: 0.2708650619974799\n",
            "Epoch 17/23, Loss: 0.2680800157985084\n",
            "Epoch 18/23, Loss: 0.26455686933756173\n",
            "Epoch 19/23, Loss: 0.2705786343636199\n",
            "Epoch 20/23, Loss: 0.26166516951939306\n",
            "Epoch 21/23, Loss: 0.26051228376054586\n",
            "Epoch 22/23, Loss: 0.25705651538654534\n",
            "Epoch 23/23, Loss: 0.25610903645900285\n",
            "Finished Training\n",
            "Best Threshold: 0.61, Best F1-score: 0.4843\n",
            "Final F1-score: 0.4843\n",
            "Point-wise F1: 0.48\n",
            "Point-adjust F1: 0.6\n",
            "Composite F1: 0.49\n",
            "Event-wise F1: 0.47\n",
            "Precision: 0.53\n",
            "Recall: 0.42\n",
            "Time:  44.19\n"
          ]
        }
      ],
      "id": "-3KomKxBfJrk"
    },
    {
      "cell_type": "code",
      "source": [
        "aggregated_predictions = (pod_predictions + pod_predictions + node_predictions) / 3\n",
        "aggregated_predictions"
      ],
      "metadata": {
        "colab": {
          "base_uri": "https://localhost:8080/"
        },
        "id": "yM9CnwXKF0BD",
        "outputId": "4879f300-95f1-4407-e22a-691f7e9f8fa5"
      },
      "id": "yM9CnwXKF0BD",
      "execution_count": 613,
      "outputs": [
        {
          "output_type": "execute_result",
          "data": {
            "text/plain": [
              "tensor([0.7707, 0.6478, 0.1854,  ..., 0.0514, 0.0605, 0.0526])"
            ]
          },
          "metadata": {},
          "execution_count": 613
        }
      ]
    },
    {
      "cell_type": "code",
      "source": [
        "# Find the best threshold\n",
        "best_threshold = 0.0\n",
        "best_f1 = 0.0\n",
        "for threshold in np.arange(0, 1.0, 0.001):\n",
        "    predictions = (aggregated_predictions >= threshold).float()\n",
        "    f1 = f1_score(targets.numpy(), predictions.numpy())\n",
        "    if f1 > best_f1:\n",
        "        best_f1 = f1\n",
        "        best_threshold = threshold\n",
        "        final_predictions = predictions\n",
        "\n",
        "print(f'Best Threshold: {best_threshold:.2f}, Best F1-score: {best_f1:.4f}')"
      ],
      "metadata": {
        "colab": {
          "base_uri": "https://localhost:8080/"
        },
        "id": "eahra2CQGeZU",
        "outputId": "f80500ff-ab2e-4f43-8af5-681e88f92ae1"
      },
      "id": "eahra2CQGeZU",
      "execution_count": 614,
      "outputs": [
        {
          "output_type": "stream",
          "name": "stdout",
          "text": [
            "Best Threshold: 0.28, Best F1-score: 0.7326\n"
          ]
        }
      ]
    },
    {
      "cell_type": "code",
      "source": [
        "print(final_predictions.sum())"
      ],
      "metadata": {
        "colab": {
          "base_uri": "https://localhost:8080/"
        },
        "id": "eE8VduuOGfTq",
        "outputId": "cd4a8bd3-a08e-4e4c-fadf-241e7cf53523"
      },
      "id": "eE8VduuOGfTq",
      "execution_count": 615,
      "outputs": [
        {
          "output_type": "stream",
          "name": "stdout",
          "text": [
            "tensor(168.)\n"
          ]
        }
      ]
    },
    {
      "cell_type": "code",
      "source": [
        "pw_precision, pw_recall, pw_f1 = e.calculate_point_wise(targets, final_predictions)\n",
        "print('Point-wise F1:', pw_f1)\n",
        "\n",
        "pa_precision, pa_recall, pa_f1 = e.calculate_point_adjusted(targets, final_predictions)\n",
        "print('Point-adjust F1:', pa_f1)\n",
        "\n",
        "composite_precision, composite_recall, composite_f1 = e.calculate_composite(targets, final_predictions)\n",
        "print('Composite F1:', composite_f1)\n",
        "\n",
        "ew_precision, ew_recall, ew_f1 = e.calculate_event_wise(targets, final_predictions)\n",
        "print('Event-wise F1:', ew_f1)\n",
        "\n",
        "pr = e.evaluate(targets, final_predictions)\n",
        "print('Precision:', pr.loc['Eventwise'][0])\n",
        "print('Recall:', pr.loc['Eventwise'][1])"
      ],
      "metadata": {
        "colab": {
          "base_uri": "https://localhost:8080/"
        },
        "id": "I4aBiP2_Gk0W",
        "outputId": "87c8bd1f-c152-4490-c56c-bba02c775f0f"
      },
      "id": "I4aBiP2_Gk0W",
      "execution_count": 616,
      "outputs": [
        {
          "output_type": "stream",
          "name": "stdout",
          "text": [
            "Point-wise F1: 0.73\n",
            "Point-adjust F1: 0.85\n",
            "Composite F1: 0.84\n",
            "Event-wise F1: 0.87\n",
            "Precision: 0.84\n",
            "Recall: 0.89\n"
          ]
        }
      ]
    },
    {
      "cell_type": "code",
      "execution_count": 617,
      "id": "b08ab4bb",
      "metadata": {
        "id": "b08ab4bb",
        "outputId": "836ad934-9e32-472e-8a06-92211ed23ad1",
        "colab": {
          "base_uri": "https://localhost:8080/",
          "height": 581
        }
      },
      "outputs": [
        {
          "output_type": "stream",
          "name": "stdout",
          "text": [
            "False Positive Rate: 0.017146017699115043\n"
          ]
        },
        {
          "output_type": "display_data",
          "data": {
            "text/plain": [
              "<Figure size 800x600 with 1 Axes>"
            ],
            "image/png": "[encoded data removed]"
          },
          "metadata": {}
        }
      ],
      "source": [
        "cm = confusion_matrix(targets, final_predictions)\n",
        "\n",
        "TN, FP, FN, TP = cm.ravel()\n",
        "FPR = FP / (FP + TN) if (FP + TN) > 0 else 0\n",
        "print(\"False Positive Rate:\", FPR)\n",
        "\n",
        "# Confusion matrix\n",
        "plt.figure(figsize=(8, 6))\n",
        "sns.heatmap(cm, annot=True, fmt='d', cmap='Blues', cbar=False,\n",
        "            xticklabels=['Normal', 'Anomaly'], yticklabels=['Normal', 'Anomaly'])\n",
        "plt.xlabel('Predicted Label')\n",
        "plt.ylabel('True Label')\n",
        "plt.title('Confusion Matrix')\n",
        "plt.show()"
      ]
    }
  ],
  "metadata": {
    "colab": {
      "provenance": [],
      "name": "STGCN_20th.ipynb"
    },
    "kernelspec": {
      "display_name": "Python 3",
      "name": "python3"
    },
    "language_info": {
      "codemirror_mode": {
        "name": "ipython",
        "version": 3
      },
      "file_extension": ".py",
      "mimetype": "text/x-python",
      "name": "python",
      "nbconvert_exporter": "python",
      "pygments_lexer": "ipython3",
      "version": "3.11.8"
    }
  },
  "nbformat": 4,
  "nbformat_minor": 5
}